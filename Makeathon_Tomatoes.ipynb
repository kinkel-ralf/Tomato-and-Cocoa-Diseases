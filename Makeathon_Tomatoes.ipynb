{
  "nbformat": 4,
  "nbformat_minor": 0,
  "metadata": {
    "colab": {
      "provenance": [],
      "collapsed_sections": [],
      "machine_shape": "hm"
    },
    "kernelspec": {
      "name": "python3",
      "display_name": "Python 3"
    },
    "language_info": {
      "name": "python"
    },
    "accelerator": "GPU",
    "gpuClass": "premium"
  },
  "cells": [
    {
      "cell_type": "code",
      "execution_count": 1,
      "metadata": {
        "id": "Y-HmbFjf4e5P"
      },
      "outputs": [],
      "source": [
        "import torch\n",
        "from torch.utils.data import DataLoader\n",
        "import torchvision\n",
        "from torchvision import transforms, datasets\n",
        "import os\n",
        "from torch.utils.data.sampler import SubsetRandomSampler\n",
        "import matplotlib.pyplot as plt"
      ]
    },
    {
      "cell_type": "code",
      "source": [
        "!nvidia-smi"
      ],
      "metadata": {
        "colab": {
          "base_uri": "https://localhost:8080/"
        },
        "id": "DMJ2E8Vn_nf-",
        "outputId": "c081fe6a-bb63-4bdc-f46a-de92f5ca09c0"
      },
      "execution_count": 2,
      "outputs": [
        {
          "output_type": "stream",
          "name": "stdout",
          "text": [
            "Sun Oct  2 07:33:51 2022       \n",
            "+-----------------------------------------------------------------------------+\n",
            "| NVIDIA-SMI 460.32.03    Driver Version: 460.32.03    CUDA Version: 11.2     |\n",
            "|-------------------------------+----------------------+----------------------+\n",
            "| GPU  Name        Persistence-M| Bus-Id        Disp.A | Volatile Uncorr. ECC |\n",
            "| Fan  Temp  Perf  Pwr:Usage/Cap|         Memory-Usage | GPU-Util  Compute M. |\n",
            "|                               |                      |               MIG M. |\n",
            "|===============================+======================+======================|\n",
            "|   0  Tesla V100-SXM2...  Off  | 00000000:00:04.0 Off |                    0 |\n",
            "| N/A   34C    P0    22W / 300W |      0MiB / 16160MiB |      0%      Default |\n",
            "|                               |                      |                  N/A |\n",
            "+-------------------------------+----------------------+----------------------+\n",
            "                                                                               \n",
            "+-----------------------------------------------------------------------------+\n",
            "| Processes:                                                                  |\n",
            "|  GPU   GI   CI        PID   Type   Process name                  GPU Memory |\n",
            "|        ID   ID                                                   Usage      |\n",
            "|=============================================================================|\n",
            "|  No running processes found                                                 |\n",
            "+-----------------------------------------------------------------------------+\n"
          ]
        }
      ]
    },
    {
      "cell_type": "code",
      "source": [
        "# Todo: Testset accuracy at highest val-acc and at end for all good settings\n",
        "from google.colab import drive\n",
        "import sys\n",
        "import os\n",
        "drive.mount('/content/gdrive')"
      ],
      "metadata": {
        "colab": {
          "base_uri": "https://localhost:8080/"
        },
        "id": "IPOBQXiITbHY",
        "outputId": "27b73720-79b1-40a4-f24e-c9e1c6bcf765"
      },
      "execution_count": 3,
      "outputs": [
        {
          "output_type": "stream",
          "name": "stdout",
          "text": [
            "Mounted at /content/gdrive\n"
          ]
        }
      ]
    },
    {
      "cell_type": "code",
      "source": [
        "# Look if there is overlap between testset and train_val_set (very slight overlap detected, but nothing skewing results much)\n",
        "if False:\n",
        "    for (i,_) in test_dataset:\n",
        "      min_dist = 100000\n",
        "      for (j,_) in train_val_dataset:\n",
        "        if torch.norm(i-j, p=2) < min_dist:\n",
        "          min_dist = torch.norm(i-j, p=2)\n",
        "      print(min_dist)"
      ],
      "metadata": {
        "id": "QJzdU5u4ODIY"
      },
      "execution_count": 4,
      "outputs": []
    },
    {
      "cell_type": "code",
      "source": [
        "BATCH_SIZE=64\n",
        "\n",
        "dir_path_train = '/content/gdrive/MyDrive/makeathon/tomato/train'\n",
        "dir_path_test = '/content/gdrive/MyDrive/makeathon/tomato/val'\n",
        "\n",
        "augment = torchvision.transforms.Compose([\n",
        "    transforms.Resize(size=(128, 128)), \n",
        "    transforms.ToTensor()\n",
        "])\n",
        "\n",
        "train_val_dataset = datasets.ImageFolder(root=dir_path_train, transform=augment)\n",
        "train_dataset, val_dataset = torch.utils.data.random_split(train_val_dataset, [9000, 1000])\n",
        "test_dataset = datasets.ImageFolder(root=dir_path_test, transform=augment)\n",
        "\n",
        "# Set dataloaders\n",
        "train_loader = torch.utils.data.DataLoader(train_dataset, batch_size=BATCH_SIZE, pin_memory=True, shuffle=True, num_workers=4)\n",
        "val_loader = torch.utils.data.DataLoader(val_dataset, batch_size=BATCH_SIZE, shuffle=False, pin_memory=True, num_workers=4)\n",
        "test_loader = torch.utils.data.DataLoader(test_dataset, batch_size=1, shuffle=False, pin_memory=True, num_workers=4)\n",
        "\n",
        "train_set_size, val_set_size, test_set_size = len(train_dataset), len(val_dataset), len(test_dataset)\n",
        "print('Train size:', train_set_size, \"\\nVal size:\", val_set_size, '\\nTest size:', test_set_size)"
      ],
      "metadata": {
        "colab": {
          "base_uri": "https://localhost:8080/"
        },
        "id": "miSTO794_op8",
        "outputId": "a4fd8ee6-f678-4dc8-970c-d08f4654bfce"
      },
      "execution_count": 5,
      "outputs": [
        {
          "output_type": "stream",
          "name": "stdout",
          "text": [
            "Train size: 9000 \n",
            "Val size: 1000 \n",
            "Test size: 1000\n"
          ]
        }
      ]
    },
    {
      "cell_type": "code",
      "source": [
        "classes = train_val_dataset.classes\n",
        "\n",
        "img, label = train_val_dataset[0]\n",
        "img_sample = img.permute(1, 2, 0) \n",
        "\n",
        "print(\"Image_show\", img_sample.shape)\n",
        "print('Image shape:', img.shape)\n",
        "print('Num of classes:', len(classes))\n",
        "plt.imshow(img_sample)\n",
        "plt.title(classes[label]);"
      ],
      "metadata": {
        "colab": {
          "base_uri": "https://localhost:8080/",
          "height": 333
        },
        "id": "c_03OrZH_9bn",
        "outputId": "09f33063-7797-44cf-a24f-cd1362c5d221"
      },
      "execution_count": 6,
      "outputs": [
        {
          "output_type": "stream",
          "name": "stdout",
          "text": [
            "Image_show torch.Size([128, 128, 3])\n",
            "Image shape: torch.Size([3, 128, 128])\n",
            "Num of classes: 10\n"
          ]
        },
        {
          "output_type": "display_data",
          "data": {
            "text/plain": [
              "<Figure size 432x288 with 1 Axes>"
            ],
            "image/png": "[encoded data removed]"
          },
          "metadata": {
            "needs_background": "light"
          }
        }
      ]
    },
    {
      "cell_type": "code",
      "source": [
        "model = torchvision.models.efficientnet_b0(weights=\"EfficientNet_B0_Weights.IMAGENET1K_V1\")\n",
        "model.classifier[1] = torch.nn.Linear(in_features=1280, out_features=10, bias=True)\n",
        "for param in model.parameters():\n",
        "    param.requires_grad = True\n",
        "model.classifier"
      ],
      "metadata": {
        "colab": {
          "base_uri": "https://localhost:8080/"
        },
        "id": "EgwULSGRjjl2",
        "outputId": "01efabe7-a409-4092-9fd0-0824e8aaa4c7"
      },
      "execution_count": null,
      "outputs": [
        {
          "output_type": "execute_result",
          "data": {
            "text/plain": [
              "Sequential(\n",
              "  (0): Dropout(p=0.2, inplace=True)\n",
              "  (1): Linear(in_features=1280, out_features=10, bias=True)\n",
              ")"
            ]
          },
          "metadata": {},
          "execution_count": 31
        }
      ]
    },
    {
      "cell_type": "code",
      "source": [
        "device = 'cuda' if torch.cuda.is_available() else 'cpu'\n",
        "model.to(device)\n",
        "\n",
        "loss_fn = torch.nn.CrossEntropyLoss()\n",
        "optimizer = torch.optim.Adam(model.parameters(), lr=0.01)"
      ],
      "metadata": {
        "id": "Z7EdWTYUAoYe"
      },
      "execution_count": null,
      "outputs": []
    },
    {
      "cell_type": "code",
      "source": [
        "train_accuracy_history, train_loss_history = [], []\n",
        "val_accuracy_history, val_loss_history = [], []\n",
        "test_accuracy_history, test_loss_history = [], []"
      ],
      "metadata": {
        "id": "cyUVX4kBAusl"
      },
      "execution_count": null,
      "outputs": []
    },
    {
      "cell_type": "code",
      "source": [
        "len(train_loader)"
      ],
      "metadata": {
        "colab": {
          "base_uri": "https://localhost:8080/"
        },
        "id": "Kf7eKc_epLVL",
        "outputId": "0885e6cb-5a44-4148-a307-aaf15e07e8d2"
      },
      "execution_count": null,
      "outputs": [
        {
          "output_type": "execute_result",
          "data": {
            "text/plain": [
              "141"
            ]
          },
          "metadata": {},
          "execution_count": 34
        }
      ]
    },
    {
      "cell_type": "code",
      "source": [
        "# Define schedule\n",
        "max_lr = 0.005\n",
        "epochs = 8\n",
        "\n",
        "segment = epochs//4\n",
        "schedule = [max_lr * (i+1)/segment for i in range(segment)] + [max_lr for i in range(segment*2)] + [max_lr * (1-i/segment) for i in range(segment)]\n",
        "#schedule"
      ],
      "metadata": {
        "id": "-zBfdo_Uqt7t"
      },
      "execution_count": null,
      "outputs": []
    },
    {
      "cell_type": "code",
      "source": [
        "PATH = \"gdrive/MyDrive/makeathon/model_checkpoints/tomato/best\"\n",
        "BATCH_PERIOD = len(train_loader)//2\n",
        "\n",
        "val_acc_max = 0\n",
        "for epoch in range(epochs):\n",
        "    for g in optimizer.param_groups:\n",
        "        g['lr'] = schedule[epoch]\n",
        "    print(f'EPOCH {epoch}:')\n",
        "    train_losses, train_acc = 0, 0\n",
        "    for batch, (X, y) in enumerate(train_loader):\n",
        "        X = X.to(device)\n",
        "        y = y.to(device)\n",
        "        model.train()\n",
        "        y_pred = model.forward(X)\n",
        "        loss = loss_fn(y_pred, y)\n",
        "        \n",
        "        train_losses += loss.data.cpu()\n",
        "        train_acc += (y_pred.argmax(dim=1) == y).float().sum().data.cpu()\n",
        "        \n",
        "        optimizer.zero_grad()\n",
        "        loss.backward()\n",
        "        optimizer.step()\n",
        "        \n",
        "        if batch % BATCH_PERIOD == BATCH_PERIOD - 1:\n",
        "            train_acc /= (BATCH_SIZE * BATCH_PERIOD)\n",
        "            train_losses /= BATCH_PERIOD\n",
        "            train_accuracy_history.append(train_acc)\n",
        "            train_loss_history.append(train_losses)\n",
        "            \n",
        "            print(f' Train loss: {train_losses:.4f} | Train accuracy: {train_acc:.3f}')\n",
        "            train_losses, train_acc = 0, 0\n",
        "        \n",
        "            model.eval()\n",
        "            val_losses, val_acc = 0, 0\n",
        "            with torch.inference_mode():\n",
        "                for Xt, yt in val_loader:\n",
        "                    Xt = Xt.to(device)\n",
        "                    yt= yt.to(device)\n",
        "                    y_val_pred = model(Xt)\n",
        "                    loss_val = loss_fn(y_val_pred, yt)\n",
        "                    val_losses += loss_val.data.cpu()\n",
        "                    val_acc += (y_val_pred.argmax(dim=1) == yt).float().sum().data.cpu()\n",
        "                val_acc /= val_set_size\n",
        "                val_losses /= len(val_loader)\n",
        "                val_accuracy_history.append(val_acc)\n",
        "                val_loss_history.append(val_losses)\n",
        "                \n",
        "                if val_acc > val_acc_max:\n",
        "                    checkpoint = {'epoch': epoch, 'model_state': model.state_dict()}\n",
        "                    torch.save(checkpoint, PATH)\n",
        "                    val_acc_max = val_acc\n",
        "\n",
        "            print(f'  Val loss: {val_losses:.4f} | Val acc: {val_acc:.3f}   ')"
      ],
      "metadata": {
        "colab": {
          "base_uri": "https://localhost:8080/"
        },
        "id": "wB85_v6yAuvi",
        "outputId": "7ec98f58-4da5-478e-f5ce-d34ffcb1ddad"
      },
      "execution_count": null,
      "outputs": [
        {
          "output_type": "stream",
          "name": "stdout",
          "text": [
            "EPOCH 0:\n",
            " Train loss: 0.6086 | Train accuracy: 0.820\n",
            "  Val loss: 0.4689 | Val acc: 0.846   \n",
            " Train loss: 0.2931 | Train accuracy: 0.909\n",
            "  Val loss: 0.1678 | Val acc: 0.950   \n",
            "EPOCH 1:\n",
            " Train loss: 0.3690 | Train accuracy: 0.893\n",
            "  Val loss: 0.8366 | Val acc: 0.804   \n",
            " Train loss: 0.2477 | Train accuracy: 0.920\n",
            "  Val loss: 0.5097 | Val acc: 0.855   \n",
            "EPOCH 2:\n",
            " Train loss: 0.1892 | Train accuracy: 0.944\n",
            "  Val loss: 2.0818 | Val acc: 0.672   \n",
            " Train loss: 0.1717 | Train accuracy: 0.946\n",
            "  Val loss: 0.1918 | Val acc: 0.943   \n",
            "EPOCH 3:\n",
            " Train loss: 0.1198 | Train accuracy: 0.962\n",
            "  Val loss: 0.1202 | Val acc: 0.962   \n",
            " Train loss: 0.1100 | Train accuracy: 0.966\n",
            "  Val loss: 0.1111 | Val acc: 0.968   \n",
            "EPOCH 4:\n",
            " Train loss: 0.1539 | Train accuracy: 0.955\n",
            "  Val loss: 0.2659 | Val acc: 0.922   \n",
            " Train loss: 0.1048 | Train accuracy: 0.963\n",
            "  Val loss: 0.8949 | Val acc: 0.806   \n",
            "EPOCH 5:\n",
            " Train loss: 0.0812 | Train accuracy: 0.972\n",
            "  Val loss: 0.0941 | Val acc: 0.965   \n",
            " Train loss: 0.0887 | Train accuracy: 0.970\n",
            "  Val loss: 0.1996 | Val acc: 0.945   \n",
            "EPOCH 6:\n",
            " Train loss: 0.0693 | Train accuracy: 0.979\n",
            "  Val loss: 0.0996 | Val acc: 0.964   \n",
            " Train loss: 0.0532 | Train accuracy: 0.982\n",
            "  Val loss: 0.0628 | Val acc: 0.979   \n",
            "EPOCH 7:\n",
            " Train loss: 0.0282 | Train accuracy: 0.992\n",
            "  Val loss: 0.0530 | Val acc: 0.979   \n",
            " Train loss: 0.0204 | Train accuracy: 0.992\n",
            "  Val loss: 0.0388 | Val acc: 0.990   \n"
          ]
        }
      ]
    },
    {
      "cell_type": "code",
      "source": [
        "WINNER_PATH = \"gdrive/MyDrive/makeathon/model_checkpoints/tomato/winner\""
      ],
      "metadata": {
        "id": "Q4QuMziyf10Y"
      },
      "execution_count": null,
      "outputs": []
    },
    {
      "cell_type": "code",
      "source": [
        "model_loaded = torchvision.models.efficientnet_b0(weights=\"EfficientNet_B0_Weights.IMAGENET1K_V1\")\n",
        "model_loaded.classifier[1] = torch.nn.Linear(in_features=1280, out_features=10, bias=True)\n",
        "checkpoint = torch.load(WINNER_PATH)\n",
        "model_loaded.load_state_dict(checkpoint['model_state'])\n",
        "#model_loaded.to(device)\n",
        "model_loaded.eval()\n",
        "print(\"Model loaded from checkpoint.\")"
      ],
      "metadata": {
        "colab": {
          "base_uri": "https://localhost:8080/"
        },
        "id": "0D0EOKTmLf8u",
        "outputId": "3e0c3df7-b95c-464f-c0d0-e899e83ee39f"
      },
      "execution_count": null,
      "outputs": [
        {
          "output_type": "stream",
          "name": "stdout",
          "text": [
            "Model loaded from checkpoint.\n"
          ]
        }
      ]
    },
    {
      "cell_type": "code",
      "source": [
        "import time"
      ],
      "metadata": {
        "id": "mI6OwxktNCVV"
      },
      "execution_count": null,
      "outputs": []
    },
    {
      "cell_type": "code",
      "source": [
        "!pip install torchmetrics\n",
        "import torchmetrics"
      ],
      "metadata": {
        "colab": {
          "base_uri": "https://localhost:8080/"
        },
        "id": "QeW6tz46Yyt0",
        "outputId": "ce65453f-bd95-4fbd-8c64-f516dd7ad967"
      },
      "execution_count": null,
      "outputs": [
        {
          "output_type": "stream",
          "name": "stdout",
          "text": [
            "Looking in indexes: https://pypi.org/simple, https://us-python.pkg.dev/colab-wheels/public/simple/\n",
            "Requirement already satisfied: torchmetrics in /usr/local/lib/python3.7/dist-packages (0.9.3)\n",
            "Requirement already satisfied: numpy>=1.17.2 in /usr/local/lib/python3.7/dist-packages (from torchmetrics) (1.21.6)\n",
            "Requirement already satisfied: typing-extensions in /usr/local/lib/python3.7/dist-packages (from torchmetrics) (4.1.1)\n",
            "Requirement already satisfied: packaging in /usr/local/lib/python3.7/dist-packages (from torchmetrics) (21.3)\n",
            "Requirement already satisfied: torch>=1.3.1 in /usr/local/lib/python3.7/dist-packages (from torchmetrics) (1.12.1+cu113)\n",
            "Requirement already satisfied: pyparsing!=3.0.5,>=2.0.2 in /usr/local/lib/python3.7/dist-packages (from packaging->torchmetrics) (3.0.9)\n"
          ]
        }
      ]
    },
    {
      "cell_type": "code",
      "source": [
        "loss_fn_inference = torch.nn.CrossEntropyLoss() #weight=torch.tensor([10.0,1.0])\n",
        "test_losses, test_accs = 0, [0 for _ in range(10)]\n",
        "preds = []\n",
        "targets = []\n",
        "\n",
        "total_time_model_run = 0\n",
        "with torch.inference_mode():\n",
        "    for Xt, yt in test_loader:\n",
        "        t1 = time.time()\n",
        "        y_test_pred = model_loaded(Xt)\n",
        "        total_time_model_run += time.time() - t1\n",
        "\n",
        "        preds.append(y_test_pred.argmax(dim=1))\n",
        "        targets.append(yt)\n",
        "\n",
        "        test_val = loss_fn_inference(y_test_pred, yt)\n",
        "        test_losses += test_val.data.cpu()\n",
        "        test_accs[yt] += int((y_test_pred.argmax(dim=1) == yt).float().sum().data.cpu())\n",
        "    test_acc = sum(test_accs)/test_set_size\n",
        "    test_losses /= len(test_loader)\n",
        "\n",
        "print(f'  Test loss: {test_losses:.4f} | Test acc: {test_acc:.3f}   ')\n",
        "print(\"Average time needed for inference in ms:\", total_time_model_run/len(test_dataset)*1000)"
      ],
      "metadata": {
        "colab": {
          "base_uri": "https://localhost:8080/"
        },
        "id": "iuOX7XWCMsEm",
        "outputId": "77b7d6b4-b5b3-4787-f71d-b17e30cf2907"
      },
      "execution_count": null,
      "outputs": [
        {
          "output_type": "stream",
          "name": "stdout",
          "text": [
            "  Test loss: 0.0582 | Test acc: 0.976   \n",
            "Average time needed for inference in ms: 20.712421417236328\n"
          ]
        }
      ]
    },
    {
      "cell_type": "code",
      "source": [
        "confmat = torchmetrics.ConfusionMatrix(10)\n",
        "print(\"                         Predictions\"           )\n",
        "mat = confmat(torch.tensor(preds), torch.tensor(targets))\n",
        "print(mat)\n",
        "print(\"Targets\")"
      ],
      "metadata": {
        "colab": {
          "base_uri": "https://localhost:8080/"
        },
        "id": "-PRoZiGwY7-k",
        "outputId": "fe8bb8cc-28c6-433b-bb2b-557a6c7f4576"
      },
      "execution_count": null,
      "outputs": [
        {
          "output_type": "stream",
          "name": "stdout",
          "text": [
            "                         Predictions\n",
            "tensor([[ 98,   0,   0,   0,   0,   0,   0,   2,   0,   0],\n",
            "        [  1,  96,   1,   1,   1,   0,   0,   0,   0,   0],\n",
            "        [  0,   0, 100,   0,   0,   0,   0,   0,   0,   0],\n",
            "        [  0,   0,   0, 100,   0,   0,   0,   0,   0,   0],\n",
            "        [  0,   0,   4,   0,  96,   0,   0,   0,   0,   0],\n",
            "        [  0,   0,   3,   0,   0,  94,   3,   0,   0,   0],\n",
            "        [  0,   1,   0,   0,   3,   3,  93,   0,   0,   0],\n",
            "        [  0,   0,   0,   0,   0,   0,   0, 100,   0,   0],\n",
            "        [  0,   0,   0,   0,   0,   0,   0,   0, 100,   0],\n",
            "        [  0,   0,   0,   0,   1,   0,   0,   0,   0,  99]])\n",
            "Targets\n"
          ]
        }
      ]
    },
    {
      "cell_type": "code",
      "source": [
        "tp = torch.diagonal(mat)\n",
        "total_gt = torch.sum(mat, axis=1)\n",
        "total_pred = torch.sum(mat, axis=0)\n",
        "print(\"Precision =\", tp/total_pred)\n",
        "print(\"Recall =\", tp/total_gt)\n",
        "ap = float(torch.mean(tp/total_pred))\n",
        "ar = float(torch.mean(tp/total_gt))\n",
        "print(\"Average Precision:\", ap)\n",
        "print(\"Average Recall:\", ar)\n",
        "print(\"F1:\", 2*ap*ar/(ap+ar))"
      ],
      "metadata": {
        "colab": {
          "base_uri": "https://localhost:8080/"
        },
        "id": "bZzTW_dEbGyd",
        "outputId": "805f0719-3111-4f38-db06-5b945ff7bf84"
      },
      "execution_count": null,
      "outputs": [
        {
          "output_type": "stream",
          "name": "stdout",
          "text": [
            "Precision = tensor([0.9899, 0.9897, 0.9259, 0.9901, 0.9505, 0.9691, 0.9688, 0.9804, 1.0000,\n",
            "        1.0000])\n",
            "Recall = tensor([0.9800, 0.9600, 1.0000, 1.0000, 0.9600, 0.9400, 0.9300, 1.0000, 1.0000,\n",
            "        0.9900])\n",
            "Average Precision: 0.9764324426651001\n",
            "Average Recall: 0.9760000109672546\n",
            "F1: 0.9762161789279206\n"
          ]
        }
      ]
    },
    {
      "cell_type": "code",
      "source": [
        "model_loaded"
      ],
      "metadata": {
        "colab": {
          "base_uri": "https://localhost:8080/"
        },
        "id": "QBFZaq_Yc-kW",
        "outputId": "54ee4dec-72b6-419a-da2b-277c03fc39cb"
      },
      "execution_count": null,
      "outputs": [
        {
          "output_type": "execute_result",
          "data": {
            "text/plain": [
              "EfficientNet(\n",
              "  (features): Sequential(\n",
              "    (0): Conv2dNormActivation(\n",
              "      (0): Conv2d(3, 32, kernel_size=(3, 3), stride=(2, 2), padding=(1, 1), bias=False)\n",
              "      (1): BatchNorm2d(32, eps=1e-05, momentum=0.1, affine=True, track_running_stats=True)\n",
              "      (2): SiLU(inplace=True)\n",
              "    )\n",
              "    (1): Sequential(\n",
              "      (0): MBConv(\n",
              "        (block): Sequential(\n",
              "          (0): Conv2dNormActivation(\n",
              "            (0): Conv2d(32, 32, kernel_size=(3, 3), stride=(1, 1), padding=(1, 1), groups=32, bias=False)\n",
              "            (1): BatchNorm2d(32, eps=1e-05, momentum=0.1, affine=True, track_running_stats=True)\n",
              "            (2): SiLU(inplace=True)\n",
              "          )\n",
              "          (1): SqueezeExcitation(\n",
              "            (avgpool): AdaptiveAvgPool2d(output_size=1)\n",
              "            (fc1): Conv2d(32, 8, kernel_size=(1, 1), stride=(1, 1))\n",
              "            (fc2): Conv2d(8, 32, kernel_size=(1, 1), stride=(1, 1))\n",
              "            (activation): SiLU(inplace=True)\n",
              "            (scale_activation): Sigmoid()\n",
              "          )\n",
              "          (2): Conv2dNormActivation(\n",
              "            (0): Conv2d(32, 16, kernel_size=(1, 1), stride=(1, 1), bias=False)\n",
              "            (1): BatchNorm2d(16, eps=1e-05, momentum=0.1, affine=True, track_running_stats=True)\n",
              "          )\n",
              "        )\n",
              "        (stochastic_depth): StochasticDepth(p=0.0, mode=row)\n",
              "      )\n",
              "    )\n",
              "    (2): Sequential(\n",
              "      (0): MBConv(\n",
              "        (block): Sequential(\n",
              "          (0): Conv2dNormActivation(\n",
              "            (0): Conv2d(16, 96, kernel_size=(1, 1), stride=(1, 1), bias=False)\n",
              "            (1): BatchNorm2d(96, eps=1e-05, momentum=0.1, affine=True, track_running_stats=True)\n",
              "            (2): SiLU(inplace=True)\n",
              "          )\n",
              "          (1): Conv2dNormActivation(\n",
              "            (0): Conv2d(96, 96, kernel_size=(3, 3), stride=(2, 2), padding=(1, 1), groups=96, bias=False)\n",
              "            (1): BatchNorm2d(96, eps=1e-05, momentum=0.1, affine=True, track_running_stats=True)\n",
              "            (2): SiLU(inplace=True)\n",
              "          )\n",
              "          (2): SqueezeExcitation(\n",
              "            (avgpool): AdaptiveAvgPool2d(output_size=1)\n",
              "            (fc1): Conv2d(96, 4, kernel_size=(1, 1), stride=(1, 1))\n",
              "            (fc2): Conv2d(4, 96, kernel_size=(1, 1), stride=(1, 1))\n",
              "            (activation): SiLU(inplace=True)\n",
              "            (scale_activation): Sigmoid()\n",
              "          )\n",
              "          (3): Conv2dNormActivation(\n",
              "            (0): Conv2d(96, 24, kernel_size=(1, 1), stride=(1, 1), bias=False)\n",
              "            (1): BatchNorm2d(24, eps=1e-05, momentum=0.1, affine=True, track_running_stats=True)\n",
              "          )\n",
              "        )\n",
              "        (stochastic_depth): StochasticDepth(p=0.0125, mode=row)\n",
              "      )\n",
              "      (1): MBConv(\n",
              "        (block): Sequential(\n",
              "          (0): Conv2dNormActivation(\n",
              "            (0): Conv2d(24, 144, kernel_size=(1, 1), stride=(1, 1), bias=False)\n",
              "            (1): BatchNorm2d(144, eps=1e-05, momentum=0.1, affine=True, track_running_stats=True)\n",
              "            (2): SiLU(inplace=True)\n",
              "          )\n",
              "          (1): Conv2dNormActivation(\n",
              "            (0): Conv2d(144, 144, kernel_size=(3, 3), stride=(1, 1), padding=(1, 1), groups=144, bias=False)\n",
              "            (1): BatchNorm2d(144, eps=1e-05, momentum=0.1, affine=True, track_running_stats=True)\n",
              "            (2): SiLU(inplace=True)\n",
              "          )\n",
              "          (2): SqueezeExcitation(\n",
              "            (avgpool): AdaptiveAvgPool2d(output_size=1)\n",
              "            (fc1): Conv2d(144, 6, kernel_size=(1, 1), stride=(1, 1))\n",
              "            (fc2): Conv2d(6, 144, kernel_size=(1, 1), stride=(1, 1))\n",
              "            (activation): SiLU(inplace=True)\n",
              "            (scale_activation): Sigmoid()\n",
              "          )\n",
              "          (3): Conv2dNormActivation(\n",
              "            (0): Conv2d(144, 24, kernel_size=(1, 1), stride=(1, 1), bias=False)\n",
              "            (1): BatchNorm2d(24, eps=1e-05, momentum=0.1, affine=True, track_running_stats=True)\n",
              "          )\n",
              "        )\n",
              "        (stochastic_depth): StochasticDepth(p=0.025, mode=row)\n",
              "      )\n",
              "    )\n",
              "    (3): Sequential(\n",
              "      (0): MBConv(\n",
              "        (block): Sequential(\n",
              "          (0): Conv2dNormActivation(\n",
              "            (0): Conv2d(24, 144, kernel_size=(1, 1), stride=(1, 1), bias=False)\n",
              "            (1): BatchNorm2d(144, eps=1e-05, momentum=0.1, affine=True, track_running_stats=True)\n",
              "            (2): SiLU(inplace=True)\n",
              "          )\n",
              "          (1): Conv2dNormActivation(\n",
              "            (0): Conv2d(144, 144, kernel_size=(5, 5), stride=(2, 2), padding=(2, 2), groups=144, bias=False)\n",
              "            (1): BatchNorm2d(144, eps=1e-05, momentum=0.1, affine=True, track_running_stats=True)\n",
              "            (2): SiLU(inplace=True)\n",
              "          )\n",
              "          (2): SqueezeExcitation(\n",
              "            (avgpool): AdaptiveAvgPool2d(output_size=1)\n",
              "            (fc1): Conv2d(144, 6, kernel_size=(1, 1), stride=(1, 1))\n",
              "            (fc2): Conv2d(6, 144, kernel_size=(1, 1), stride=(1, 1))\n",
              "            (activation): SiLU(inplace=True)\n",
              "            (scale_activation): Sigmoid()\n",
              "          )\n",
              "          (3): Conv2dNormActivation(\n",
              "            (0): Conv2d(144, 40, kernel_size=(1, 1), stride=(1, 1), bias=False)\n",
              "            (1): BatchNorm2d(40, eps=1e-05, momentum=0.1, affine=True, track_running_stats=True)\n",
              "          )\n",
              "        )\n",
              "        (stochastic_depth): StochasticDepth(p=0.037500000000000006, mode=row)\n",
              "      )\n",
              "      (1): MBConv(\n",
              "        (block): Sequential(\n",
              "          (0): Conv2dNormActivation(\n",
              "            (0): Conv2d(40, 240, kernel_size=(1, 1), stride=(1, 1), bias=False)\n",
              "            (1): BatchNorm2d(240, eps=1e-05, momentum=0.1, affine=True, track_running_stats=True)\n",
              "            (2): SiLU(inplace=True)\n",
              "          )\n",
              "          (1): Conv2dNormActivation(\n",
              "            (0): Conv2d(240, 240, kernel_size=(5, 5), stride=(1, 1), padding=(2, 2), groups=240, bias=False)\n",
              "            (1): BatchNorm2d(240, eps=1e-05, momentum=0.1, affine=True, track_running_stats=True)\n",
              "            (2): SiLU(inplace=True)\n",
              "          )\n",
              "          (2): SqueezeExcitation(\n",
              "            (avgpool): AdaptiveAvgPool2d(output_size=1)\n",
              "            (fc1): Conv2d(240, 10, kernel_size=(1, 1), stride=(1, 1))\n",
              "            (fc2): Conv2d(10, 240, kernel_size=(1, 1), stride=(1, 1))\n",
              "            (activation): SiLU(inplace=True)\n",
              "            (scale_activation): Sigmoid()\n",
              "          )\n",
              "          (3): Conv2dNormActivation(\n",
              "            (0): Conv2d(240, 40, kernel_size=(1, 1), stride=(1, 1), bias=False)\n",
              "            (1): BatchNorm2d(40, eps=1e-05, momentum=0.1, affine=True, track_running_stats=True)\n",
              "          )\n",
              "        )\n",
              "        (stochastic_depth): StochasticDepth(p=0.05, mode=row)\n",
              "      )\n",
              "    )\n",
              "    (4): Sequential(\n",
              "      (0): MBConv(\n",
              "        (block): Sequential(\n",
              "          (0): Conv2dNormActivation(\n",
              "            (0): Conv2d(40, 240, kernel_size=(1, 1), stride=(1, 1), bias=False)\n",
              "            (1): BatchNorm2d(240, eps=1e-05, momentum=0.1, affine=True, track_running_stats=True)\n",
              "            (2): SiLU(inplace=True)\n",
              "          )\n",
              "          (1): Conv2dNormActivation(\n",
              "            (0): Conv2d(240, 240, kernel_size=(3, 3), stride=(2, 2), padding=(1, 1), groups=240, bias=False)\n",
              "            (1): BatchNorm2d(240, eps=1e-05, momentum=0.1, affine=True, track_running_stats=True)\n",
              "            (2): SiLU(inplace=True)\n",
              "          )\n",
              "          (2): SqueezeExcitation(\n",
              "            (avgpool): AdaptiveAvgPool2d(output_size=1)\n",
              "            (fc1): Conv2d(240, 10, kernel_size=(1, 1), stride=(1, 1))\n",
              "            (fc2): Conv2d(10, 240, kernel_size=(1, 1), stride=(1, 1))\n",
              "            (activation): SiLU(inplace=True)\n",
              "            (scale_activation): Sigmoid()\n",
              "          )\n",
              "          (3): Conv2dNormActivation(\n",
              "            (0): Conv2d(240, 80, kernel_size=(1, 1), stride=(1, 1), bias=False)\n",
              "            (1): BatchNorm2d(80, eps=1e-05, momentum=0.1, affine=True, track_running_stats=True)\n",
              "          )\n",
              "        )\n",
              "        (stochastic_depth): StochasticDepth(p=0.0625, mode=row)\n",
              "      )\n",
              "      (1): MBConv(\n",
              "        (block): Sequential(\n",
              "          (0): Conv2dNormActivation(\n",
              "            (0): Conv2d(80, 480, kernel_size=(1, 1), stride=(1, 1), bias=False)\n",
              "            (1): BatchNorm2d(480, eps=1e-05, momentum=0.1, affine=True, track_running_stats=True)\n",
              "            (2): SiLU(inplace=True)\n",
              "          )\n",
              "          (1): Conv2dNormActivation(\n",
              "            (0): Conv2d(480, 480, kernel_size=(3, 3), stride=(1, 1), padding=(1, 1), groups=480, bias=False)\n",
              "            (1): BatchNorm2d(480, eps=1e-05, momentum=0.1, affine=True, track_running_stats=True)\n",
              "            (2): SiLU(inplace=True)\n",
              "          )\n",
              "          (2): SqueezeExcitation(\n",
              "            (avgpool): AdaptiveAvgPool2d(output_size=1)\n",
              "            (fc1): Conv2d(480, 20, kernel_size=(1, 1), stride=(1, 1))\n",
              "            (fc2): Conv2d(20, 480, kernel_size=(1, 1), stride=(1, 1))\n",
              "            (activation): SiLU(inplace=True)\n",
              "            (scale_activation): Sigmoid()\n",
              "          )\n",
              "          (3): Conv2dNormActivation(\n",
              "            (0): Conv2d(480, 80, kernel_size=(1, 1), stride=(1, 1), bias=False)\n",
              "            (1): BatchNorm2d(80, eps=1e-05, momentum=0.1, affine=True, track_running_stats=True)\n",
              "          )\n",
              "        )\n",
              "        (stochastic_depth): StochasticDepth(p=0.07500000000000001, mode=row)\n",
              "      )\n",
              "      (2): MBConv(\n",
              "        (block): Sequential(\n",
              "          (0): Conv2dNormActivation(\n",
              "            (0): Conv2d(80, 480, kernel_size=(1, 1), stride=(1, 1), bias=False)\n",
              "            (1): BatchNorm2d(480, eps=1e-05, momentum=0.1, affine=True, track_running_stats=True)\n",
              "            (2): SiLU(inplace=True)\n",
              "          )\n",
              "          (1): Conv2dNormActivation(\n",
              "            (0): Conv2d(480, 480, kernel_size=(3, 3), stride=(1, 1), padding=(1, 1), groups=480, bias=False)\n",
              "            (1): BatchNorm2d(480, eps=1e-05, momentum=0.1, affine=True, track_running_stats=True)\n",
              "            (2): SiLU(inplace=True)\n",
              "          )\n",
              "          (2): SqueezeExcitation(\n",
              "            (avgpool): AdaptiveAvgPool2d(output_size=1)\n",
              "            (fc1): Conv2d(480, 20, kernel_size=(1, 1), stride=(1, 1))\n",
              "            (fc2): Conv2d(20, 480, kernel_size=(1, 1), stride=(1, 1))\n",
              "            (activation): SiLU(inplace=True)\n",
              "            (scale_activation): Sigmoid()\n",
              "          )\n",
              "          (3): Conv2dNormActivation(\n",
              "            (0): Conv2d(480, 80, kernel_size=(1, 1), stride=(1, 1), bias=False)\n",
              "            (1): BatchNorm2d(80, eps=1e-05, momentum=0.1, affine=True, track_running_stats=True)\n",
              "          )\n",
              "        )\n",
              "        (stochastic_depth): StochasticDepth(p=0.08750000000000001, mode=row)\n",
              "      )\n",
              "    )\n",
              "    (5): Sequential(\n",
              "      (0): MBConv(\n",
              "        (block): Sequential(\n",
              "          (0): Conv2dNormActivation(\n",
              "            (0): Conv2d(80, 480, kernel_size=(1, 1), stride=(1, 1), bias=False)\n",
              "            (1): BatchNorm2d(480, eps=1e-05, momentum=0.1, affine=True, track_running_stats=True)\n",
              "            (2): SiLU(inplace=True)\n",
              "          )\n",
              "          (1): Conv2dNormActivation(\n",
              "            (0): Conv2d(480, 480, kernel_size=(5, 5), stride=(1, 1), padding=(2, 2), groups=480, bias=False)\n",
              "            (1): BatchNorm2d(480, eps=1e-05, momentum=0.1, affine=True, track_running_stats=True)\n",
              "            (2): SiLU(inplace=True)\n",
              "          )\n",
              "          (2): SqueezeExcitation(\n",
              "            (avgpool): AdaptiveAvgPool2d(output_size=1)\n",
              "            (fc1): Conv2d(480, 20, kernel_size=(1, 1), stride=(1, 1))\n",
              "            (fc2): Conv2d(20, 480, kernel_size=(1, 1), stride=(1, 1))\n",
              "            (activation): SiLU(inplace=True)\n",
              "            (scale_activation): Sigmoid()\n",
              "          )\n",
              "          (3): Conv2dNormActivation(\n",
              "            (0): Conv2d(480, 112, kernel_size=(1, 1), stride=(1, 1), bias=False)\n",
              "            (1): BatchNorm2d(112, eps=1e-05, momentum=0.1, affine=True, track_running_stats=True)\n",
              "          )\n",
              "        )\n",
              "        (stochastic_depth): StochasticDepth(p=0.1, mode=row)\n",
              "      )\n",
              "      (1): MBConv(\n",
              "        (block): Sequential(\n",
              "          (0): Conv2dNormActivation(\n",
              "            (0): Conv2d(112, 672, kernel_size=(1, 1), stride=(1, 1), bias=False)\n",
              "            (1): BatchNorm2d(672, eps=1e-05, momentum=0.1, affine=True, track_running_stats=True)\n",
              "            (2): SiLU(inplace=True)\n",
              "          )\n",
              "          (1): Conv2dNormActivation(\n",
              "            (0): Conv2d(672, 672, kernel_size=(5, 5), stride=(1, 1), padding=(2, 2), groups=672, bias=False)\n",
              "            (1): BatchNorm2d(672, eps=1e-05, momentum=0.1, affine=True, track_running_stats=True)\n",
              "            (2): SiLU(inplace=True)\n",
              "          )\n",
              "          (2): SqueezeExcitation(\n",
              "            (avgpool): AdaptiveAvgPool2d(output_size=1)\n",
              "            (fc1): Conv2d(672, 28, kernel_size=(1, 1), stride=(1, 1))\n",
              "            (fc2): Conv2d(28, 672, kernel_size=(1, 1), stride=(1, 1))\n",
              "            (activation): SiLU(inplace=True)\n",
              "            (scale_activation): Sigmoid()\n",
              "          )\n",
              "          (3): Conv2dNormActivation(\n",
              "            (0): Conv2d(672, 112, kernel_size=(1, 1), stride=(1, 1), bias=False)\n",
              "            (1): BatchNorm2d(112, eps=1e-05, momentum=0.1, affine=True, track_running_stats=True)\n",
              "          )\n",
              "        )\n",
              "        (stochastic_depth): StochasticDepth(p=0.1125, mode=row)\n",
              "      )\n",
              "      (2): MBConv(\n",
              "        (block): Sequential(\n",
              "          (0): Conv2dNormActivation(\n",
              "            (0): Conv2d(112, 672, kernel_size=(1, 1), stride=(1, 1), bias=False)\n",
              "            (1): BatchNorm2d(672, eps=1e-05, momentum=0.1, affine=True, track_running_stats=True)\n",
              "            (2): SiLU(inplace=True)\n",
              "          )\n",
              "          (1): Conv2dNormActivation(\n",
              "            (0): Conv2d(672, 672, kernel_size=(5, 5), stride=(1, 1), padding=(2, 2), groups=672, bias=False)\n",
              "            (1): BatchNorm2d(672, eps=1e-05, momentum=0.1, affine=True, track_running_stats=True)\n",
              "            (2): SiLU(inplace=True)\n",
              "          )\n",
              "          (2): SqueezeExcitation(\n",
              "            (avgpool): AdaptiveAvgPool2d(output_size=1)\n",
              "            (fc1): Conv2d(672, 28, kernel_size=(1, 1), stride=(1, 1))\n",
              "            (fc2): Conv2d(28, 672, kernel_size=(1, 1), stride=(1, 1))\n",
              "            (activation): SiLU(inplace=True)\n",
              "            (scale_activation): Sigmoid()\n",
              "          )\n",
              "          (3): Conv2dNormActivation(\n",
              "            (0): Conv2d(672, 112, kernel_size=(1, 1), stride=(1, 1), bias=False)\n",
              "            (1): BatchNorm2d(112, eps=1e-05, momentum=0.1, affine=True, track_running_stats=True)\n",
              "          )\n",
              "        )\n",
              "        (stochastic_depth): StochasticDepth(p=0.125, mode=row)\n",
              "      )\n",
              "    )\n",
              "    (6): Sequential(\n",
              "      (0): MBConv(\n",
              "        (block): Sequential(\n",
              "          (0): Conv2dNormActivation(\n",
              "            (0): Conv2d(112, 672, kernel_size=(1, 1), stride=(1, 1), bias=False)\n",
              "            (1): BatchNorm2d(672, eps=1e-05, momentum=0.1, affine=True, track_running_stats=True)\n",
              "            (2): SiLU(inplace=True)\n",
              "          )\n",
              "          (1): Conv2dNormActivation(\n",
              "            (0): Conv2d(672, 672, kernel_size=(5, 5), stride=(2, 2), padding=(2, 2), groups=672, bias=False)\n",
              "            (1): BatchNorm2d(672, eps=1e-05, momentum=0.1, affine=True, track_running_stats=True)\n",
              "            (2): SiLU(inplace=True)\n",
              "          )\n",
              "          (2): SqueezeExcitation(\n",
              "            (avgpool): AdaptiveAvgPool2d(output_size=1)\n",
              "            (fc1): Conv2d(672, 28, kernel_size=(1, 1), stride=(1, 1))\n",
              "            (fc2): Conv2d(28, 672, kernel_size=(1, 1), stride=(1, 1))\n",
              "            (activation): SiLU(inplace=True)\n",
              "            (scale_activation): Sigmoid()\n",
              "          )\n",
              "          (3): Conv2dNormActivation(\n",
              "            (0): Conv2d(672, 192, kernel_size=(1, 1), stride=(1, 1), bias=False)\n",
              "            (1): BatchNorm2d(192, eps=1e-05, momentum=0.1, affine=True, track_running_stats=True)\n",
              "          )\n",
              "        )\n",
              "        (stochastic_depth): StochasticDepth(p=0.1375, mode=row)\n",
              "      )\n",
              "      (1): MBConv(\n",
              "        (block): Sequential(\n",
              "          (0): Conv2dNormActivation(\n",
              "            (0): Conv2d(192, 1152, kernel_size=(1, 1), stride=(1, 1), bias=False)\n",
              "            (1): BatchNorm2d(1152, eps=1e-05, momentum=0.1, affine=True, track_running_stats=True)\n",
              "            (2): SiLU(inplace=True)\n",
              "          )\n",
              "          (1): Conv2dNormActivation(\n",
              "            (0): Conv2d(1152, 1152, kernel_size=(5, 5), stride=(1, 1), padding=(2, 2), groups=1152, bias=False)\n",
              "            (1): BatchNorm2d(1152, eps=1e-05, momentum=0.1, affine=True, track_running_stats=True)\n",
              "            (2): SiLU(inplace=True)\n",
              "          )\n",
              "          (2): SqueezeExcitation(\n",
              "            (avgpool): AdaptiveAvgPool2d(output_size=1)\n",
              "            (fc1): Conv2d(1152, 48, kernel_size=(1, 1), stride=(1, 1))\n",
              "            (fc2): Conv2d(48, 1152, kernel_size=(1, 1), stride=(1, 1))\n",
              "            (activation): SiLU(inplace=True)\n",
              "            (scale_activation): Sigmoid()\n",
              "          )\n",
              "          (3): Conv2dNormActivation(\n",
              "            (0): Conv2d(1152, 192, kernel_size=(1, 1), stride=(1, 1), bias=False)\n",
              "            (1): BatchNorm2d(192, eps=1e-05, momentum=0.1, affine=True, track_running_stats=True)\n",
              "          )\n",
              "        )\n",
              "        (stochastic_depth): StochasticDepth(p=0.15000000000000002, mode=row)\n",
              "      )\n",
              "      (2): MBConv(\n",
              "        (block): Sequential(\n",
              "          (0): Conv2dNormActivation(\n",
              "            (0): Conv2d(192, 1152, kernel_size=(1, 1), stride=(1, 1), bias=False)\n",
              "            (1): BatchNorm2d(1152, eps=1e-05, momentum=0.1, affine=True, track_running_stats=True)\n",
              "            (2): SiLU(inplace=True)\n",
              "          )\n",
              "          (1): Conv2dNormActivation(\n",
              "            (0): Conv2d(1152, 1152, kernel_size=(5, 5), stride=(1, 1), padding=(2, 2), groups=1152, bias=False)\n",
              "            (1): BatchNorm2d(1152, eps=1e-05, momentum=0.1, affine=True, track_running_stats=True)\n",
              "            (2): SiLU(inplace=True)\n",
              "          )\n",
              "          (2): SqueezeExcitation(\n",
              "            (avgpool): AdaptiveAvgPool2d(output_size=1)\n",
              "            (fc1): Conv2d(1152, 48, kernel_size=(1, 1), stride=(1, 1))\n",
              "            (fc2): Conv2d(48, 1152, kernel_size=(1, 1), stride=(1, 1))\n",
              "            (activation): SiLU(inplace=True)\n",
              "            (scale_activation): Sigmoid()\n",
              "          )\n",
              "          (3): Conv2dNormActivation(\n",
              "            (0): Conv2d(1152, 192, kernel_size=(1, 1), stride=(1, 1), bias=False)\n",
              "            (1): BatchNorm2d(192, eps=1e-05, momentum=0.1, affine=True, track_running_stats=True)\n",
              "          )\n",
              "        )\n",
              "        (stochastic_depth): StochasticDepth(p=0.1625, mode=row)\n",
              "      )\n",
              "      (3): MBConv(\n",
              "        (block): Sequential(\n",
              "          (0): Conv2dNormActivation(\n",
              "            (0): Conv2d(192, 1152, kernel_size=(1, 1), stride=(1, 1), bias=False)\n",
              "            (1): BatchNorm2d(1152, eps=1e-05, momentum=0.1, affine=True, track_running_stats=True)\n",
              "            (2): SiLU(inplace=True)\n",
              "          )\n",
              "          (1): Conv2dNormActivation(\n",
              "            (0): Conv2d(1152, 1152, kernel_size=(5, 5), stride=(1, 1), padding=(2, 2), groups=1152, bias=False)\n",
              "            (1): BatchNorm2d(1152, eps=1e-05, momentum=0.1, affine=True, track_running_stats=True)\n",
              "            (2): SiLU(inplace=True)\n",
              "          )\n",
              "          (2): SqueezeExcitation(\n",
              "            (avgpool): AdaptiveAvgPool2d(output_size=1)\n",
              "            (fc1): Conv2d(1152, 48, kernel_size=(1, 1), stride=(1, 1))\n",
              "            (fc2): Conv2d(48, 1152, kernel_size=(1, 1), stride=(1, 1))\n",
              "            (activation): SiLU(inplace=True)\n",
              "            (scale_activation): Sigmoid()\n",
              "          )\n",
              "          (3): Conv2dNormActivation(\n",
              "            (0): Conv2d(1152, 192, kernel_size=(1, 1), stride=(1, 1), bias=False)\n",
              "            (1): BatchNorm2d(192, eps=1e-05, momentum=0.1, affine=True, track_running_stats=True)\n",
              "          )\n",
              "        )\n",
              "        (stochastic_depth): StochasticDepth(p=0.17500000000000002, mode=row)\n",
              "      )\n",
              "    )\n",
              "    (7): Sequential(\n",
              "      (0): MBConv(\n",
              "        (block): Sequential(\n",
              "          (0): Conv2dNormActivation(\n",
              "            (0): Conv2d(192, 1152, kernel_size=(1, 1), stride=(1, 1), bias=False)\n",
              "            (1): BatchNorm2d(1152, eps=1e-05, momentum=0.1, affine=True, track_running_stats=True)\n",
              "            (2): SiLU(inplace=True)\n",
              "          )\n",
              "          (1): Conv2dNormActivation(\n",
              "            (0): Conv2d(1152, 1152, kernel_size=(3, 3), stride=(1, 1), padding=(1, 1), groups=1152, bias=False)\n",
              "            (1): BatchNorm2d(1152, eps=1e-05, momentum=0.1, affine=True, track_running_stats=True)\n",
              "            (2): SiLU(inplace=True)\n",
              "          )\n",
              "          (2): SqueezeExcitation(\n",
              "            (avgpool): AdaptiveAvgPool2d(output_size=1)\n",
              "            (fc1): Conv2d(1152, 48, kernel_size=(1, 1), stride=(1, 1))\n",
              "            (fc2): Conv2d(48, 1152, kernel_size=(1, 1), stride=(1, 1))\n",
              "            (activation): SiLU(inplace=True)\n",
              "            (scale_activation): Sigmoid()\n",
              "          )\n",
              "          (3): Conv2dNormActivation(\n",
              "            (0): Conv2d(1152, 320, kernel_size=(1, 1), stride=(1, 1), bias=False)\n",
              "            (1): BatchNorm2d(320, eps=1e-05, momentum=0.1, affine=True, track_running_stats=True)\n",
              "          )\n",
              "        )\n",
              "        (stochastic_depth): StochasticDepth(p=0.1875, mode=row)\n",
              "      )\n",
              "    )\n",
              "    (8): Conv2dNormActivation(\n",
              "      (0): Conv2d(320, 1280, kernel_size=(1, 1), stride=(1, 1), bias=False)\n",
              "      (1): BatchNorm2d(1280, eps=1e-05, momentum=0.1, affine=True, track_running_stats=True)\n",
              "      (2): SiLU(inplace=True)\n",
              "    )\n",
              "  )\n",
              "  (avgpool): AdaptiveAvgPool2d(output_size=1)\n",
              "  (classifier): Sequential(\n",
              "    (0): Dropout(p=0.2, inplace=True)\n",
              "    (1): Linear(in_features=1280, out_features=10, bias=True)\n",
              "  )\n",
              ")"
            ]
          },
          "metadata": {},
          "execution_count": 89
        }
      ]
    },
    {
      "cell_type": "markdown",
      "source": [
        "## Export to tf.lite"
      ],
      "metadata": {
        "id": "cewkZVRkoLwR"
      }
    },
    {
      "cell_type": "code",
      "source": [
        "!pip install onnx\n",
        "import onnx"
      ],
      "metadata": {
        "colab": {
          "base_uri": "https://localhost:8080/"
        },
        "id": "cJsV695roLZX",
        "outputId": "9cead0b0-531a-462f-9c0d-9d085757175a"
      },
      "execution_count": null,
      "outputs": [
        {
          "output_type": "stream",
          "name": "stdout",
          "text": [
            "Looking in indexes: https://pypi.org/simple, https://us-python.pkg.dev/colab-wheels/public/simple/\n",
            "Collecting onnx\n",
            "  Downloading onnx-1.12.0-cp37-cp37m-manylinux_2_17_x86_64.manylinux2014_x86_64.whl (13.1 MB)\n",
            "\u001b[K     |████████████████████████████████| 13.1 MB 15.5 MB/s \n",
            "\u001b[?25hRequirement already satisfied: numpy>=1.16.6 in /usr/local/lib/python3.7/dist-packages (from onnx) (1.21.6)\n",
            "Requirement already satisfied: protobuf<=3.20.1,>=3.12.2 in /usr/local/lib/python3.7/dist-packages (from onnx) (3.17.3)\n",
            "Requirement already satisfied: typing-extensions>=3.6.2.1 in /usr/local/lib/python3.7/dist-packages (from onnx) (4.1.1)\n",
            "Requirement already satisfied: six>=1.9 in /usr/local/lib/python3.7/dist-packages (from protobuf<=3.20.1,>=3.12.2->onnx) (1.15.0)\n",
            "Installing collected packages: onnx\n",
            "Successfully installed onnx-1.12.0\n"
          ]
        }
      ]
    },
    {
      "cell_type": "code",
      "source": [
        "sample_input = torch.rand((1, 3, 128, 128))\n",
        "onnx_model_path = \"gdrive/MyDrive/makeathon/model_checkpoints/tomato/onnx_winner.onxx\""
      ],
      "metadata": {
        "id": "xJN9gbaRoLdZ"
      },
      "execution_count": null,
      "outputs": []
    },
    {
      "cell_type": "code",
      "source": [
        "torch.onnx.export(\n",
        "    model_loaded,                  # PyTorch Model\n",
        "    sample_input,                    # Input tensor\n",
        "    onnx_model_path,        # Output file (eg. 'output_model.onnx')\n",
        "    opset_version=12,       # Operator support version\n",
        "    input_names=['input'],   # Input tensor name (arbitary)\n",
        "    output_names=['output'] # Output tensor name (arbitary)\n",
        ")"
      ],
      "metadata": {
        "id": "1tqAKd1DAu08"
      },
      "execution_count": null,
      "outputs": []
    },
    {
      "cell_type": "code",
      "source": [
        "model_onxx = onnx.load(\"gdrive/MyDrive/makeathon/model_checkpoints/tomato/onnx_winner.onxx\")"
      ],
      "metadata": {
        "id": "9E3yN0hVo9PR"
      },
      "execution_count": null,
      "outputs": []
    },
    {
      "cell_type": "code",
      "source": [
        "onnx.checker.check_model(model_onxx)"
      ],
      "metadata": {
        "id": "df6unNAgpLGQ"
      },
      "execution_count": null,
      "outputs": []
    },
    {
      "cell_type": "code",
      "source": [
        "# Print a Human readable representation of the graph\n",
        "print(onnx.helper.printable_graph(model_onxx.graph))"
      ],
      "metadata": {
        "colab": {
          "base_uri": "https://localhost:8080/"
        },
        "id": "gkVq08qRpgIu",
        "outputId": "c5a9ef0d-07a3-48a6-c6fd-37cc04d03509"
      },
      "execution_count": null,
      "outputs": [
        {
          "output_type": "stream",
          "name": "stdout",
          "text": [
            "graph torch_jit (\n",
            "  %input[FLOAT, 1x3x128x128]\n",
            ") initializers (\n",
            "  %features.1.0.block.1.fc1.weight[FLOAT, 8x32x1x1]\n",
            "  %features.1.0.block.1.fc1.bias[FLOAT, 8]\n",
            "  %features.1.0.block.1.fc2.weight[FLOAT, 32x8x1x1]\n",
            "  %features.1.0.block.1.fc2.bias[FLOAT, 32]\n",
            "  %features.2.0.block.2.fc1.weight[FLOAT, 4x96x1x1]\n",
            "  %features.2.0.block.2.fc1.bias[FLOAT, 4]\n",
            "  %features.2.0.block.2.fc2.weight[FLOAT, 96x4x1x1]\n",
            "  %features.2.0.block.2.fc2.bias[FLOAT, 96]\n",
            "  %features.2.1.block.2.fc1.weight[FLOAT, 6x144x1x1]\n",
            "  %features.2.1.block.2.fc1.bias[FLOAT, 6]\n",
            "  %features.2.1.block.2.fc2.weight[FLOAT, 144x6x1x1]\n",
            "  %features.2.1.block.2.fc2.bias[FLOAT, 144]\n",
            "  %features.3.0.block.2.fc1.weight[FLOAT, 6x144x1x1]\n",
            "  %features.3.0.block.2.fc1.bias[FLOAT, 6]\n",
            "  %features.3.0.block.2.fc2.weight[FLOAT, 144x6x1x1]\n",
            "  %features.3.0.block.2.fc2.bias[FLOAT, 144]\n",
            "  %features.3.1.block.2.fc1.weight[FLOAT, 10x240x1x1]\n",
            "  %features.3.1.block.2.fc1.bias[FLOAT, 10]\n",
            "  %features.3.1.block.2.fc2.weight[FLOAT, 240x10x1x1]\n",
            "  %features.3.1.block.2.fc2.bias[FLOAT, 240]\n",
            "  %features.4.0.block.2.fc1.weight[FLOAT, 10x240x1x1]\n",
            "  %features.4.0.block.2.fc1.bias[FLOAT, 10]\n",
            "  %features.4.0.block.2.fc2.weight[FLOAT, 240x10x1x1]\n",
            "  %features.4.0.block.2.fc2.bias[FLOAT, 240]\n",
            "  %features.4.1.block.2.fc1.weight[FLOAT, 20x480x1x1]\n",
            "  %features.4.1.block.2.fc1.bias[FLOAT, 20]\n",
            "  %features.4.1.block.2.fc2.weight[FLOAT, 480x20x1x1]\n",
            "  %features.4.1.block.2.fc2.bias[FLOAT, 480]\n",
            "  %features.4.2.block.2.fc1.weight[FLOAT, 20x480x1x1]\n",
            "  %features.4.2.block.2.fc1.bias[FLOAT, 20]\n",
            "  %features.4.2.block.2.fc2.weight[FLOAT, 480x20x1x1]\n",
            "  %features.4.2.block.2.fc2.bias[FLOAT, 480]\n",
            "  %features.5.0.block.2.fc1.weight[FLOAT, 20x480x1x1]\n",
            "  %features.5.0.block.2.fc1.bias[FLOAT, 20]\n",
            "  %features.5.0.block.2.fc2.weight[FLOAT, 480x20x1x1]\n",
            "  %features.5.0.block.2.fc2.bias[FLOAT, 480]\n",
            "  %features.5.1.block.2.fc1.weight[FLOAT, 28x672x1x1]\n",
            "  %features.5.1.block.2.fc1.bias[FLOAT, 28]\n",
            "  %features.5.1.block.2.fc2.weight[FLOAT, 672x28x1x1]\n",
            "  %features.5.1.block.2.fc2.bias[FLOAT, 672]\n",
            "  %features.5.2.block.2.fc1.weight[FLOAT, 28x672x1x1]\n",
            "  %features.5.2.block.2.fc1.bias[FLOAT, 28]\n",
            "  %features.5.2.block.2.fc2.weight[FLOAT, 672x28x1x1]\n",
            "  %features.5.2.block.2.fc2.bias[FLOAT, 672]\n",
            "  %features.6.0.block.2.fc1.weight[FLOAT, 28x672x1x1]\n",
            "  %features.6.0.block.2.fc1.bias[FLOAT, 28]\n",
            "  %features.6.0.block.2.fc2.weight[FLOAT, 672x28x1x1]\n",
            "  %features.6.0.block.2.fc2.bias[FLOAT, 672]\n",
            "  %features.6.1.block.2.fc1.weight[FLOAT, 48x1152x1x1]\n",
            "  %features.6.1.block.2.fc1.bias[FLOAT, 48]\n",
            "  %features.6.1.block.2.fc2.weight[FLOAT, 1152x48x1x1]\n",
            "  %features.6.1.block.2.fc2.bias[FLOAT, 1152]\n",
            "  %features.6.2.block.2.fc1.weight[FLOAT, 48x1152x1x1]\n",
            "  %features.6.2.block.2.fc1.bias[FLOAT, 48]\n",
            "  %features.6.2.block.2.fc2.weight[FLOAT, 1152x48x1x1]\n",
            "  %features.6.2.block.2.fc2.bias[FLOAT, 1152]\n",
            "  %features.6.3.block.2.fc1.weight[FLOAT, 48x1152x1x1]\n",
            "  %features.6.3.block.2.fc1.bias[FLOAT, 48]\n",
            "  %features.6.3.block.2.fc2.weight[FLOAT, 1152x48x1x1]\n",
            "  %features.6.3.block.2.fc2.bias[FLOAT, 1152]\n",
            "  %features.7.0.block.2.fc1.weight[FLOAT, 48x1152x1x1]\n",
            "  %features.7.0.block.2.fc1.bias[FLOAT, 48]\n",
            "  %features.7.0.block.2.fc2.weight[FLOAT, 1152x48x1x1]\n",
            "  %features.7.0.block.2.fc2.bias[FLOAT, 1152]\n",
            "  %classifier.1.weight[FLOAT, 10x1280]\n",
            "  %classifier.1.bias[FLOAT, 10]\n",
            "  %onnx::Conv_650[FLOAT, 32x3x3x3]\n",
            "  %onnx::Conv_651[FLOAT, 32]\n",
            "  %onnx::Conv_653[FLOAT, 32x1x3x3]\n",
            "  %onnx::Conv_654[FLOAT, 32]\n",
            "  %onnx::Conv_656[FLOAT, 16x32x1x1]\n",
            "  %onnx::Conv_657[FLOAT, 16]\n",
            "  %onnx::Conv_659[FLOAT, 96x16x1x1]\n",
            "  %onnx::Conv_660[FLOAT, 96]\n",
            "  %onnx::Conv_662[FLOAT, 96x1x3x3]\n",
            "  %onnx::Conv_663[FLOAT, 96]\n",
            "  %onnx::Conv_665[FLOAT, 24x96x1x1]\n",
            "  %onnx::Conv_666[FLOAT, 24]\n",
            "  %onnx::Conv_668[FLOAT, 144x24x1x1]\n",
            "  %onnx::Conv_669[FLOAT, 144]\n",
            "  %onnx::Conv_671[FLOAT, 144x1x3x3]\n",
            "  %onnx::Conv_672[FLOAT, 144]\n",
            "  %onnx::Conv_674[FLOAT, 24x144x1x1]\n",
            "  %onnx::Conv_675[FLOAT, 24]\n",
            "  %onnx::Conv_677[FLOAT, 144x24x1x1]\n",
            "  %onnx::Conv_678[FLOAT, 144]\n",
            "  %onnx::Conv_680[FLOAT, 144x1x5x5]\n",
            "  %onnx::Conv_681[FLOAT, 144]\n",
            "  %onnx::Conv_683[FLOAT, 40x144x1x1]\n",
            "  %onnx::Conv_684[FLOAT, 40]\n",
            "  %onnx::Conv_686[FLOAT, 240x40x1x1]\n",
            "  %onnx::Conv_687[FLOAT, 240]\n",
            "  %onnx::Conv_689[FLOAT, 240x1x5x5]\n",
            "  %onnx::Conv_690[FLOAT, 240]\n",
            "  %onnx::Conv_692[FLOAT, 40x240x1x1]\n",
            "  %onnx::Conv_693[FLOAT, 40]\n",
            "  %onnx::Conv_695[FLOAT, 240x40x1x1]\n",
            "  %onnx::Conv_696[FLOAT, 240]\n",
            "  %onnx::Conv_698[FLOAT, 240x1x3x3]\n",
            "  %onnx::Conv_699[FLOAT, 240]\n",
            "  %onnx::Conv_701[FLOAT, 80x240x1x1]\n",
            "  %onnx::Conv_702[FLOAT, 80]\n",
            "  %onnx::Conv_704[FLOAT, 480x80x1x1]\n",
            "  %onnx::Conv_705[FLOAT, 480]\n",
            "  %onnx::Conv_707[FLOAT, 480x1x3x3]\n",
            "  %onnx::Conv_708[FLOAT, 480]\n",
            "  %onnx::Conv_710[FLOAT, 80x480x1x1]\n",
            "  %onnx::Conv_711[FLOAT, 80]\n",
            "  %onnx::Conv_713[FLOAT, 480x80x1x1]\n",
            "  %onnx::Conv_714[FLOAT, 480]\n",
            "  %onnx::Conv_716[FLOAT, 480x1x3x3]\n",
            "  %onnx::Conv_717[FLOAT, 480]\n",
            "  %onnx::Conv_719[FLOAT, 80x480x1x1]\n",
            "  %onnx::Conv_720[FLOAT, 80]\n",
            "  %onnx::Conv_722[FLOAT, 480x80x1x1]\n",
            "  %onnx::Conv_723[FLOAT, 480]\n",
            "  %onnx::Conv_725[FLOAT, 480x1x5x5]\n",
            "  %onnx::Conv_726[FLOAT, 480]\n",
            "  %onnx::Conv_728[FLOAT, 112x480x1x1]\n",
            "  %onnx::Conv_729[FLOAT, 112]\n",
            "  %onnx::Conv_731[FLOAT, 672x112x1x1]\n",
            "  %onnx::Conv_732[FLOAT, 672]\n",
            "  %onnx::Conv_734[FLOAT, 672x1x5x5]\n",
            "  %onnx::Conv_735[FLOAT, 672]\n",
            "  %onnx::Conv_737[FLOAT, 112x672x1x1]\n",
            "  %onnx::Conv_738[FLOAT, 112]\n",
            "  %onnx::Conv_740[FLOAT, 672x112x1x1]\n",
            "  %onnx::Conv_741[FLOAT, 672]\n",
            "  %onnx::Conv_743[FLOAT, 672x1x5x5]\n",
            "  %onnx::Conv_744[FLOAT, 672]\n",
            "  %onnx::Conv_746[FLOAT, 112x672x1x1]\n",
            "  %onnx::Conv_747[FLOAT, 112]\n",
            "  %onnx::Conv_749[FLOAT, 672x112x1x1]\n",
            "  %onnx::Conv_750[FLOAT, 672]\n",
            "  %onnx::Conv_752[FLOAT, 672x1x5x5]\n",
            "  %onnx::Conv_753[FLOAT, 672]\n",
            "  %onnx::Conv_755[FLOAT, 192x672x1x1]\n",
            "  %onnx::Conv_756[FLOAT, 192]\n",
            "  %onnx::Conv_758[FLOAT, 1152x192x1x1]\n",
            "  %onnx::Conv_759[FLOAT, 1152]\n",
            "  %onnx::Conv_761[FLOAT, 1152x1x5x5]\n",
            "  %onnx::Conv_762[FLOAT, 1152]\n",
            "  %onnx::Conv_764[FLOAT, 192x1152x1x1]\n",
            "  %onnx::Conv_765[FLOAT, 192]\n",
            "  %onnx::Conv_767[FLOAT, 1152x192x1x1]\n",
            "  %onnx::Conv_768[FLOAT, 1152]\n",
            "  %onnx::Conv_770[FLOAT, 1152x1x5x5]\n",
            "  %onnx::Conv_771[FLOAT, 1152]\n",
            "  %onnx::Conv_773[FLOAT, 192x1152x1x1]\n",
            "  %onnx::Conv_774[FLOAT, 192]\n",
            "  %onnx::Conv_776[FLOAT, 1152x192x1x1]\n",
            "  %onnx::Conv_777[FLOAT, 1152]\n",
            "  %onnx::Conv_779[FLOAT, 1152x1x5x5]\n",
            "  %onnx::Conv_780[FLOAT, 1152]\n",
            "  %onnx::Conv_782[FLOAT, 192x1152x1x1]\n",
            "  %onnx::Conv_783[FLOAT, 192]\n",
            "  %onnx::Conv_785[FLOAT, 1152x192x1x1]\n",
            "  %onnx::Conv_786[FLOAT, 1152]\n",
            "  %onnx::Conv_788[FLOAT, 1152x1x3x3]\n",
            "  %onnx::Conv_789[FLOAT, 1152]\n",
            "  %onnx::Conv_791[FLOAT, 320x1152x1x1]\n",
            "  %onnx::Conv_792[FLOAT, 320]\n",
            "  %onnx::Conv_794[FLOAT, 1280x320x1x1]\n",
            "  %onnx::Conv_795[FLOAT, 1280]\n",
            ") {\n",
            "  %input.4 = Conv[dilations = [1, 1], group = 1, kernel_shape = [3, 3], pads = [1, 1, 1, 1], strides = [2, 2]](%input, %onnx::Conv_650, %onnx::Conv_651)\n",
            "  %onnx::Mul_363 = Sigmoid(%input.4)\n",
            "  %onnx::Conv_364 = Mul(%input.4, %onnx::Mul_363)\n",
            "  %input.12 = Conv[dilations = [1, 1], group = 32, kernel_shape = [3, 3], pads = [1, 1, 1, 1], strides = [1, 1]](%onnx::Conv_364, %onnx::Conv_653, %onnx::Conv_654)\n",
            "  %onnx::Mul_367 = Sigmoid(%input.12)\n",
            "  %onnx::GlobalAveragePool_368 = Mul(%input.12, %onnx::Mul_367)\n",
            "  %input.16 = GlobalAveragePool(%onnx::GlobalAveragePool_368)\n",
            "  %input.20 = Conv[dilations = [1, 1], group = 1, kernel_shape = [1, 1], pads = [0, 0, 0, 0], strides = [1, 1]](%input.16, %features.1.0.block.1.fc1.weight, %features.1.0.block.1.fc1.bias)\n",
            "  %onnx::Mul_371 = Sigmoid(%input.20)\n",
            "  %onnx::Conv_372 = Mul(%input.20, %onnx::Mul_371)\n",
            "  %onnx::Sigmoid_373 = Conv[dilations = [1, 1], group = 1, kernel_shape = [1, 1], pads = [0, 0, 0, 0], strides = [1, 1]](%onnx::Conv_372, %features.1.0.block.1.fc2.weight, %features.1.0.block.1.fc2.bias)\n",
            "  %onnx::Mul_374 = Sigmoid(%onnx::Sigmoid_373)\n",
            "  %input.24 = Mul(%onnx::Mul_374, %onnx::GlobalAveragePool_368)\n",
            "  %input.32 = Conv[dilations = [1, 1], group = 1, kernel_shape = [1, 1], pads = [0, 0, 0, 0], strides = [1, 1]](%input.24, %onnx::Conv_656, %onnx::Conv_657)\n",
            "  %input.40 = Conv[dilations = [1, 1], group = 1, kernel_shape = [1, 1], pads = [0, 0, 0, 0], strides = [1, 1]](%input.32, %onnx::Conv_659, %onnx::Conv_660)\n",
            "  %onnx::Mul_380 = Sigmoid(%input.40)\n",
            "  %onnx::Conv_381 = Mul(%input.40, %onnx::Mul_380)\n",
            "  %input.48 = Conv[dilations = [1, 1], group = 96, kernel_shape = [3, 3], pads = [1, 1, 1, 1], strides = [2, 2]](%onnx::Conv_381, %onnx::Conv_662, %onnx::Conv_663)\n",
            "  %onnx::Mul_384 = Sigmoid(%input.48)\n",
            "  %onnx::GlobalAveragePool_385 = Mul(%input.48, %onnx::Mul_384)\n",
            "  %input.52 = GlobalAveragePool(%onnx::GlobalAveragePool_385)\n",
            "  %input.56 = Conv[dilations = [1, 1], group = 1, kernel_shape = [1, 1], pads = [0, 0, 0, 0], strides = [1, 1]](%input.52, %features.2.0.block.2.fc1.weight, %features.2.0.block.2.fc1.bias)\n",
            "  %onnx::Mul_388 = Sigmoid(%input.56)\n",
            "  %onnx::Conv_389 = Mul(%input.56, %onnx::Mul_388)\n",
            "  %onnx::Sigmoid_390 = Conv[dilations = [1, 1], group = 1, kernel_shape = [1, 1], pads = [0, 0, 0, 0], strides = [1, 1]](%onnx::Conv_389, %features.2.0.block.2.fc2.weight, %features.2.0.block.2.fc2.bias)\n",
            "  %onnx::Mul_391 = Sigmoid(%onnx::Sigmoid_390)\n",
            "  %input.60 = Mul(%onnx::Mul_391, %onnx::GlobalAveragePool_385)\n",
            "  %input.68 = Conv[dilations = [1, 1], group = 1, kernel_shape = [1, 1], pads = [0, 0, 0, 0], strides = [1, 1]](%input.60, %onnx::Conv_665, %onnx::Conv_666)\n",
            "  %input.76 = Conv[dilations = [1, 1], group = 1, kernel_shape = [1, 1], pads = [0, 0, 0, 0], strides = [1, 1]](%input.68, %onnx::Conv_668, %onnx::Conv_669)\n",
            "  %onnx::Mul_397 = Sigmoid(%input.76)\n",
            "  %onnx::Conv_398 = Mul(%input.76, %onnx::Mul_397)\n",
            "  %input.84 = Conv[dilations = [1, 1], group = 144, kernel_shape = [3, 3], pads = [1, 1, 1, 1], strides = [1, 1]](%onnx::Conv_398, %onnx::Conv_671, %onnx::Conv_672)\n",
            "  %onnx::Mul_401 = Sigmoid(%input.84)\n",
            "  %onnx::GlobalAveragePool_402 = Mul(%input.84, %onnx::Mul_401)\n",
            "  %input.88 = GlobalAveragePool(%onnx::GlobalAveragePool_402)\n",
            "  %input.92 = Conv[dilations = [1, 1], group = 1, kernel_shape = [1, 1], pads = [0, 0, 0, 0], strides = [1, 1]](%input.88, %features.2.1.block.2.fc1.weight, %features.2.1.block.2.fc1.bias)\n",
            "  %onnx::Mul_405 = Sigmoid(%input.92)\n",
            "  %onnx::Conv_406 = Mul(%input.92, %onnx::Mul_405)\n",
            "  %onnx::Sigmoid_407 = Conv[dilations = [1, 1], group = 1, kernel_shape = [1, 1], pads = [0, 0, 0, 0], strides = [1, 1]](%onnx::Conv_406, %features.2.1.block.2.fc2.weight, %features.2.1.block.2.fc2.bias)\n",
            "  %onnx::Mul_408 = Sigmoid(%onnx::Sigmoid_407)\n",
            "  %input.96 = Mul(%onnx::Mul_408, %onnx::GlobalAveragePool_402)\n",
            "  %onnx::Add_673 = Conv[dilations = [1, 1], group = 1, kernel_shape = [1, 1], pads = [0, 0, 0, 0], strides = [1, 1]](%input.96, %onnx::Conv_674, %onnx::Conv_675)\n",
            "  %onnx::Conv_412 = Add(%onnx::Add_673, %input.68)\n",
            "  %input.108 = Conv[dilations = [1, 1], group = 1, kernel_shape = [1, 1], pads = [0, 0, 0, 0], strides = [1, 1]](%onnx::Conv_412, %onnx::Conv_677, %onnx::Conv_678)\n",
            "  %onnx::Mul_415 = Sigmoid(%input.108)\n",
            "  %onnx::Conv_416 = Mul(%input.108, %onnx::Mul_415)\n",
            "  %input.116 = Conv[dilations = [1, 1], group = 144, kernel_shape = [5, 5], pads = [2, 2, 2, 2], strides = [2, 2]](%onnx::Conv_416, %onnx::Conv_680, %onnx::Conv_681)\n",
            "  %onnx::Mul_419 = Sigmoid(%input.116)\n",
            "  %onnx::GlobalAveragePool_420 = Mul(%input.116, %onnx::Mul_419)\n",
            "  %input.120 = GlobalAveragePool(%onnx::GlobalAveragePool_420)\n",
            "  %input.124 = Conv[dilations = [1, 1], group = 1, kernel_shape = [1, 1], pads = [0, 0, 0, 0], strides = [1, 1]](%input.120, %features.3.0.block.2.fc1.weight, %features.3.0.block.2.fc1.bias)\n",
            "  %onnx::Mul_423 = Sigmoid(%input.124)\n",
            "  %onnx::Conv_424 = Mul(%input.124, %onnx::Mul_423)\n",
            "  %onnx::Sigmoid_425 = Conv[dilations = [1, 1], group = 1, kernel_shape = [1, 1], pads = [0, 0, 0, 0], strides = [1, 1]](%onnx::Conv_424, %features.3.0.block.2.fc2.weight, %features.3.0.block.2.fc2.bias)\n",
            "  %onnx::Mul_426 = Sigmoid(%onnx::Sigmoid_425)\n",
            "  %input.128 = Mul(%onnx::Mul_426, %onnx::GlobalAveragePool_420)\n",
            "  %input.136 = Conv[dilations = [1, 1], group = 1, kernel_shape = [1, 1], pads = [0, 0, 0, 0], strides = [1, 1]](%input.128, %onnx::Conv_683, %onnx::Conv_684)\n",
            "  %input.144 = Conv[dilations = [1, 1], group = 1, kernel_shape = [1, 1], pads = [0, 0, 0, 0], strides = [1, 1]](%input.136, %onnx::Conv_686, %onnx::Conv_687)\n",
            "  %onnx::Mul_432 = Sigmoid(%input.144)\n",
            "  %onnx::Conv_433 = Mul(%input.144, %onnx::Mul_432)\n",
            "  %input.152 = Conv[dilations = [1, 1], group = 240, kernel_shape = [5, 5], pads = [2, 2, 2, 2], strides = [1, 1]](%onnx::Conv_433, %onnx::Conv_689, %onnx::Conv_690)\n",
            "  %onnx::Mul_436 = Sigmoid(%input.152)\n",
            "  %onnx::GlobalAveragePool_437 = Mul(%input.152, %onnx::Mul_436)\n",
            "  %input.156 = GlobalAveragePool(%onnx::GlobalAveragePool_437)\n",
            "  %input.160 = Conv[dilations = [1, 1], group = 1, kernel_shape = [1, 1], pads = [0, 0, 0, 0], strides = [1, 1]](%input.156, %features.3.1.block.2.fc1.weight, %features.3.1.block.2.fc1.bias)\n",
            "  %onnx::Mul_440 = Sigmoid(%input.160)\n",
            "  %onnx::Conv_441 = Mul(%input.160, %onnx::Mul_440)\n",
            "  %onnx::Sigmoid_442 = Conv[dilations = [1, 1], group = 1, kernel_shape = [1, 1], pads = [0, 0, 0, 0], strides = [1, 1]](%onnx::Conv_441, %features.3.1.block.2.fc2.weight, %features.3.1.block.2.fc2.bias)\n",
            "  %onnx::Mul_443 = Sigmoid(%onnx::Sigmoid_442)\n",
            "  %input.164 = Mul(%onnx::Mul_443, %onnx::GlobalAveragePool_437)\n",
            "  %onnx::Add_691 = Conv[dilations = [1, 1], group = 1, kernel_shape = [1, 1], pads = [0, 0, 0, 0], strides = [1, 1]](%input.164, %onnx::Conv_692, %onnx::Conv_693)\n",
            "  %onnx::Conv_447 = Add(%onnx::Add_691, %input.136)\n",
            "  %input.176 = Conv[dilations = [1, 1], group = 1, kernel_shape = [1, 1], pads = [0, 0, 0, 0], strides = [1, 1]](%onnx::Conv_447, %onnx::Conv_695, %onnx::Conv_696)\n",
            "  %onnx::Mul_450 = Sigmoid(%input.176)\n",
            "  %onnx::Conv_451 = Mul(%input.176, %onnx::Mul_450)\n",
            "  %input.184 = Conv[dilations = [1, 1], group = 240, kernel_shape = [3, 3], pads = [1, 1, 1, 1], strides = [2, 2]](%onnx::Conv_451, %onnx::Conv_698, %onnx::Conv_699)\n",
            "  %onnx::Mul_454 = Sigmoid(%input.184)\n",
            "  %onnx::GlobalAveragePool_455 = Mul(%input.184, %onnx::Mul_454)\n",
            "  %input.188 = GlobalAveragePool(%onnx::GlobalAveragePool_455)\n",
            "  %input.192 = Conv[dilations = [1, 1], group = 1, kernel_shape = [1, 1], pads = [0, 0, 0, 0], strides = [1, 1]](%input.188, %features.4.0.block.2.fc1.weight, %features.4.0.block.2.fc1.bias)\n",
            "  %onnx::Mul_458 = Sigmoid(%input.192)\n",
            "  %onnx::Conv_459 = Mul(%input.192, %onnx::Mul_458)\n",
            "  %onnx::Sigmoid_460 = Conv[dilations = [1, 1], group = 1, kernel_shape = [1, 1], pads = [0, 0, 0, 0], strides = [1, 1]](%onnx::Conv_459, %features.4.0.block.2.fc2.weight, %features.4.0.block.2.fc2.bias)\n",
            "  %onnx::Mul_461 = Sigmoid(%onnx::Sigmoid_460)\n",
            "  %input.196 = Mul(%onnx::Mul_461, %onnx::GlobalAveragePool_455)\n",
            "  %input.204 = Conv[dilations = [1, 1], group = 1, kernel_shape = [1, 1], pads = [0, 0, 0, 0], strides = [1, 1]](%input.196, %onnx::Conv_701, %onnx::Conv_702)\n",
            "  %input.212 = Conv[dilations = [1, 1], group = 1, kernel_shape = [1, 1], pads = [0, 0, 0, 0], strides = [1, 1]](%input.204, %onnx::Conv_704, %onnx::Conv_705)\n",
            "  %onnx::Mul_467 = Sigmoid(%input.212)\n",
            "  %onnx::Conv_468 = Mul(%input.212, %onnx::Mul_467)\n",
            "  %input.220 = Conv[dilations = [1, 1], group = 480, kernel_shape = [3, 3], pads = [1, 1, 1, 1], strides = [1, 1]](%onnx::Conv_468, %onnx::Conv_707, %onnx::Conv_708)\n",
            "  %onnx::Mul_471 = Sigmoid(%input.220)\n",
            "  %onnx::GlobalAveragePool_472 = Mul(%input.220, %onnx::Mul_471)\n",
            "  %input.224 = GlobalAveragePool(%onnx::GlobalAveragePool_472)\n",
            "  %input.228 = Conv[dilations = [1, 1], group = 1, kernel_shape = [1, 1], pads = [0, 0, 0, 0], strides = [1, 1]](%input.224, %features.4.1.block.2.fc1.weight, %features.4.1.block.2.fc1.bias)\n",
            "  %onnx::Mul_475 = Sigmoid(%input.228)\n",
            "  %onnx::Conv_476 = Mul(%input.228, %onnx::Mul_475)\n",
            "  %onnx::Sigmoid_477 = Conv[dilations = [1, 1], group = 1, kernel_shape = [1, 1], pads = [0, 0, 0, 0], strides = [1, 1]](%onnx::Conv_476, %features.4.1.block.2.fc2.weight, %features.4.1.block.2.fc2.bias)\n",
            "  %onnx::Mul_478 = Sigmoid(%onnx::Sigmoid_477)\n",
            "  %input.232 = Mul(%onnx::Mul_478, %onnx::GlobalAveragePool_472)\n",
            "  %onnx::Add_709 = Conv[dilations = [1, 1], group = 1, kernel_shape = [1, 1], pads = [0, 0, 0, 0], strides = [1, 1]](%input.232, %onnx::Conv_710, %onnx::Conv_711)\n",
            "  %onnx::Conv_482 = Add(%onnx::Add_709, %input.204)\n",
            "  %input.244 = Conv[dilations = [1, 1], group = 1, kernel_shape = [1, 1], pads = [0, 0, 0, 0], strides = [1, 1]](%onnx::Conv_482, %onnx::Conv_713, %onnx::Conv_714)\n",
            "  %onnx::Mul_485 = Sigmoid(%input.244)\n",
            "  %onnx::Conv_486 = Mul(%input.244, %onnx::Mul_485)\n",
            "  %input.252 = Conv[dilations = [1, 1], group = 480, kernel_shape = [3, 3], pads = [1, 1, 1, 1], strides = [1, 1]](%onnx::Conv_486, %onnx::Conv_716, %onnx::Conv_717)\n",
            "  %onnx::Mul_489 = Sigmoid(%input.252)\n",
            "  %onnx::GlobalAveragePool_490 = Mul(%input.252, %onnx::Mul_489)\n",
            "  %input.256 = GlobalAveragePool(%onnx::GlobalAveragePool_490)\n",
            "  %input.260 = Conv[dilations = [1, 1], group = 1, kernel_shape = [1, 1], pads = [0, 0, 0, 0], strides = [1, 1]](%input.256, %features.4.2.block.2.fc1.weight, %features.4.2.block.2.fc1.bias)\n",
            "  %onnx::Mul_493 = Sigmoid(%input.260)\n",
            "  %onnx::Conv_494 = Mul(%input.260, %onnx::Mul_493)\n",
            "  %onnx::Sigmoid_495 = Conv[dilations = [1, 1], group = 1, kernel_shape = [1, 1], pads = [0, 0, 0, 0], strides = [1, 1]](%onnx::Conv_494, %features.4.2.block.2.fc2.weight, %features.4.2.block.2.fc2.bias)\n",
            "  %onnx::Mul_496 = Sigmoid(%onnx::Sigmoid_495)\n",
            "  %input.264 = Mul(%onnx::Mul_496, %onnx::GlobalAveragePool_490)\n",
            "  %onnx::Add_718 = Conv[dilations = [1, 1], group = 1, kernel_shape = [1, 1], pads = [0, 0, 0, 0], strides = [1, 1]](%input.264, %onnx::Conv_719, %onnx::Conv_720)\n",
            "  %onnx::Conv_500 = Add(%onnx::Add_718, %onnx::Conv_482)\n",
            "  %input.276 = Conv[dilations = [1, 1], group = 1, kernel_shape = [1, 1], pads = [0, 0, 0, 0], strides = [1, 1]](%onnx::Conv_500, %onnx::Conv_722, %onnx::Conv_723)\n",
            "  %onnx::Mul_503 = Sigmoid(%input.276)\n",
            "  %onnx::Conv_504 = Mul(%input.276, %onnx::Mul_503)\n",
            "  %input.284 = Conv[dilations = [1, 1], group = 480, kernel_shape = [5, 5], pads = [2, 2, 2, 2], strides = [1, 1]](%onnx::Conv_504, %onnx::Conv_725, %onnx::Conv_726)\n",
            "  %onnx::Mul_507 = Sigmoid(%input.284)\n",
            "  %onnx::GlobalAveragePool_508 = Mul(%input.284, %onnx::Mul_507)\n",
            "  %input.288 = GlobalAveragePool(%onnx::GlobalAveragePool_508)\n",
            "  %input.292 = Conv[dilations = [1, 1], group = 1, kernel_shape = [1, 1], pads = [0, 0, 0, 0], strides = [1, 1]](%input.288, %features.5.0.block.2.fc1.weight, %features.5.0.block.2.fc1.bias)\n",
            "  %onnx::Mul_511 = Sigmoid(%input.292)\n",
            "  %onnx::Conv_512 = Mul(%input.292, %onnx::Mul_511)\n",
            "  %onnx::Sigmoid_513 = Conv[dilations = [1, 1], group = 1, kernel_shape = [1, 1], pads = [0, 0, 0, 0], strides = [1, 1]](%onnx::Conv_512, %features.5.0.block.2.fc2.weight, %features.5.0.block.2.fc2.bias)\n",
            "  %onnx::Mul_514 = Sigmoid(%onnx::Sigmoid_513)\n",
            "  %input.296 = Mul(%onnx::Mul_514, %onnx::GlobalAveragePool_508)\n",
            "  %input.304 = Conv[dilations = [1, 1], group = 1, kernel_shape = [1, 1], pads = [0, 0, 0, 0], strides = [1, 1]](%input.296, %onnx::Conv_728, %onnx::Conv_729)\n",
            "  %input.312 = Conv[dilations = [1, 1], group = 1, kernel_shape = [1, 1], pads = [0, 0, 0, 0], strides = [1, 1]](%input.304, %onnx::Conv_731, %onnx::Conv_732)\n",
            "  %onnx::Mul_520 = Sigmoid(%input.312)\n",
            "  %onnx::Conv_521 = Mul(%input.312, %onnx::Mul_520)\n",
            "  %input.320 = Conv[dilations = [1, 1], group = 672, kernel_shape = [5, 5], pads = [2, 2, 2, 2], strides = [1, 1]](%onnx::Conv_521, %onnx::Conv_734, %onnx::Conv_735)\n",
            "  %onnx::Mul_524 = Sigmoid(%input.320)\n",
            "  %onnx::GlobalAveragePool_525 = Mul(%input.320, %onnx::Mul_524)\n",
            "  %input.324 = GlobalAveragePool(%onnx::GlobalAveragePool_525)\n",
            "  %input.328 = Conv[dilations = [1, 1], group = 1, kernel_shape = [1, 1], pads = [0, 0, 0, 0], strides = [1, 1]](%input.324, %features.5.1.block.2.fc1.weight, %features.5.1.block.2.fc1.bias)\n",
            "  %onnx::Mul_528 = Sigmoid(%input.328)\n",
            "  %onnx::Conv_529 = Mul(%input.328, %onnx::Mul_528)\n",
            "  %onnx::Sigmoid_530 = Conv[dilations = [1, 1], group = 1, kernel_shape = [1, 1], pads = [0, 0, 0, 0], strides = [1, 1]](%onnx::Conv_529, %features.5.1.block.2.fc2.weight, %features.5.1.block.2.fc2.bias)\n",
            "  %onnx::Mul_531 = Sigmoid(%onnx::Sigmoid_530)\n",
            "  %input.332 = Mul(%onnx::Mul_531, %onnx::GlobalAveragePool_525)\n",
            "  %onnx::Add_736 = Conv[dilations = [1, 1], group = 1, kernel_shape = [1, 1], pads = [0, 0, 0, 0], strides = [1, 1]](%input.332, %onnx::Conv_737, %onnx::Conv_738)\n",
            "  %onnx::Conv_535 = Add(%onnx::Add_736, %input.304)\n",
            "  %input.344 = Conv[dilations = [1, 1], group = 1, kernel_shape = [1, 1], pads = [0, 0, 0, 0], strides = [1, 1]](%onnx::Conv_535, %onnx::Conv_740, %onnx::Conv_741)\n",
            "  %onnx::Mul_538 = Sigmoid(%input.344)\n",
            "  %onnx::Conv_539 = Mul(%input.344, %onnx::Mul_538)\n",
            "  %input.352 = Conv[dilations = [1, 1], group = 672, kernel_shape = [5, 5], pads = [2, 2, 2, 2], strides = [1, 1]](%onnx::Conv_539, %onnx::Conv_743, %onnx::Conv_744)\n",
            "  %onnx::Mul_542 = Sigmoid(%input.352)\n",
            "  %onnx::GlobalAveragePool_543 = Mul(%input.352, %onnx::Mul_542)\n",
            "  %input.356 = GlobalAveragePool(%onnx::GlobalAveragePool_543)\n",
            "  %input.360 = Conv[dilations = [1, 1], group = 1, kernel_shape = [1, 1], pads = [0, 0, 0, 0], strides = [1, 1]](%input.356, %features.5.2.block.2.fc1.weight, %features.5.2.block.2.fc1.bias)\n",
            "  %onnx::Mul_546 = Sigmoid(%input.360)\n",
            "  %onnx::Conv_547 = Mul(%input.360, %onnx::Mul_546)\n",
            "  %onnx::Sigmoid_548 = Conv[dilations = [1, 1], group = 1, kernel_shape = [1, 1], pads = [0, 0, 0, 0], strides = [1, 1]](%onnx::Conv_547, %features.5.2.block.2.fc2.weight, %features.5.2.block.2.fc2.bias)\n",
            "  %onnx::Mul_549 = Sigmoid(%onnx::Sigmoid_548)\n",
            "  %input.364 = Mul(%onnx::Mul_549, %onnx::GlobalAveragePool_543)\n",
            "  %onnx::Add_745 = Conv[dilations = [1, 1], group = 1, kernel_shape = [1, 1], pads = [0, 0, 0, 0], strides = [1, 1]](%input.364, %onnx::Conv_746, %onnx::Conv_747)\n",
            "  %onnx::Conv_553 = Add(%onnx::Add_745, %onnx::Conv_535)\n",
            "  %input.376 = Conv[dilations = [1, 1], group = 1, kernel_shape = [1, 1], pads = [0, 0, 0, 0], strides = [1, 1]](%onnx::Conv_553, %onnx::Conv_749, %onnx::Conv_750)\n",
            "  %onnx::Mul_556 = Sigmoid(%input.376)\n",
            "  %onnx::Conv_557 = Mul(%input.376, %onnx::Mul_556)\n",
            "  %input.384 = Conv[dilations = [1, 1], group = 672, kernel_shape = [5, 5], pads = [2, 2, 2, 2], strides = [2, 2]](%onnx::Conv_557, %onnx::Conv_752, %onnx::Conv_753)\n",
            "  %onnx::Mul_560 = Sigmoid(%input.384)\n",
            "  %onnx::GlobalAveragePool_561 = Mul(%input.384, %onnx::Mul_560)\n",
            "  %input.388 = GlobalAveragePool(%onnx::GlobalAveragePool_561)\n",
            "  %input.392 = Conv[dilations = [1, 1], group = 1, kernel_shape = [1, 1], pads = [0, 0, 0, 0], strides = [1, 1]](%input.388, %features.6.0.block.2.fc1.weight, %features.6.0.block.2.fc1.bias)\n",
            "  %onnx::Mul_564 = Sigmoid(%input.392)\n",
            "  %onnx::Conv_565 = Mul(%input.392, %onnx::Mul_564)\n",
            "  %onnx::Sigmoid_566 = Conv[dilations = [1, 1], group = 1, kernel_shape = [1, 1], pads = [0, 0, 0, 0], strides = [1, 1]](%onnx::Conv_565, %features.6.0.block.2.fc2.weight, %features.6.0.block.2.fc2.bias)\n",
            "  %onnx::Mul_567 = Sigmoid(%onnx::Sigmoid_566)\n",
            "  %input.396 = Mul(%onnx::Mul_567, %onnx::GlobalAveragePool_561)\n",
            "  %input.404 = Conv[dilations = [1, 1], group = 1, kernel_shape = [1, 1], pads = [0, 0, 0, 0], strides = [1, 1]](%input.396, %onnx::Conv_755, %onnx::Conv_756)\n",
            "  %input.412 = Conv[dilations = [1, 1], group = 1, kernel_shape = [1, 1], pads = [0, 0, 0, 0], strides = [1, 1]](%input.404, %onnx::Conv_758, %onnx::Conv_759)\n",
            "  %onnx::Mul_573 = Sigmoid(%input.412)\n",
            "  %onnx::Conv_574 = Mul(%input.412, %onnx::Mul_573)\n",
            "  %input.420 = Conv[dilations = [1, 1], group = 1152, kernel_shape = [5, 5], pads = [2, 2, 2, 2], strides = [1, 1]](%onnx::Conv_574, %onnx::Conv_761, %onnx::Conv_762)\n",
            "  %onnx::Mul_577 = Sigmoid(%input.420)\n",
            "  %onnx::GlobalAveragePool_578 = Mul(%input.420, %onnx::Mul_577)\n",
            "  %input.424 = GlobalAveragePool(%onnx::GlobalAveragePool_578)\n",
            "  %input.428 = Conv[dilations = [1, 1], group = 1, kernel_shape = [1, 1], pads = [0, 0, 0, 0], strides = [1, 1]](%input.424, %features.6.1.block.2.fc1.weight, %features.6.1.block.2.fc1.bias)\n",
            "  %onnx::Mul_581 = Sigmoid(%input.428)\n",
            "  %onnx::Conv_582 = Mul(%input.428, %onnx::Mul_581)\n",
            "  %onnx::Sigmoid_583 = Conv[dilations = [1, 1], group = 1, kernel_shape = [1, 1], pads = [0, 0, 0, 0], strides = [1, 1]](%onnx::Conv_582, %features.6.1.block.2.fc2.weight, %features.6.1.block.2.fc2.bias)\n",
            "  %onnx::Mul_584 = Sigmoid(%onnx::Sigmoid_583)\n",
            "  %input.432 = Mul(%onnx::Mul_584, %onnx::GlobalAveragePool_578)\n",
            "  %onnx::Add_763 = Conv[dilations = [1, 1], group = 1, kernel_shape = [1, 1], pads = [0, 0, 0, 0], strides = [1, 1]](%input.432, %onnx::Conv_764, %onnx::Conv_765)\n",
            "  %onnx::Conv_588 = Add(%onnx::Add_763, %input.404)\n",
            "  %input.444 = Conv[dilations = [1, 1], group = 1, kernel_shape = [1, 1], pads = [0, 0, 0, 0], strides = [1, 1]](%onnx::Conv_588, %onnx::Conv_767, %onnx::Conv_768)\n",
            "  %onnx::Mul_591 = Sigmoid(%input.444)\n",
            "  %onnx::Conv_592 = Mul(%input.444, %onnx::Mul_591)\n",
            "  %input.452 = Conv[dilations = [1, 1], group = 1152, kernel_shape = [5, 5], pads = [2, 2, 2, 2], strides = [1, 1]](%onnx::Conv_592, %onnx::Conv_770, %onnx::Conv_771)\n",
            "  %onnx::Mul_595 = Sigmoid(%input.452)\n",
            "  %onnx::GlobalAveragePool_596 = Mul(%input.452, %onnx::Mul_595)\n",
            "  %input.456 = GlobalAveragePool(%onnx::GlobalAveragePool_596)\n",
            "  %input.460 = Conv[dilations = [1, 1], group = 1, kernel_shape = [1, 1], pads = [0, 0, 0, 0], strides = [1, 1]](%input.456, %features.6.2.block.2.fc1.weight, %features.6.2.block.2.fc1.bias)\n",
            "  %onnx::Mul_599 = Sigmoid(%input.460)\n",
            "  %onnx::Conv_600 = Mul(%input.460, %onnx::Mul_599)\n",
            "  %onnx::Sigmoid_601 = Conv[dilations = [1, 1], group = 1, kernel_shape = [1, 1], pads = [0, 0, 0, 0], strides = [1, 1]](%onnx::Conv_600, %features.6.2.block.2.fc2.weight, %features.6.2.block.2.fc2.bias)\n",
            "  %onnx::Mul_602 = Sigmoid(%onnx::Sigmoid_601)\n",
            "  %input.464 = Mul(%onnx::Mul_602, %onnx::GlobalAveragePool_596)\n",
            "  %onnx::Add_772 = Conv[dilations = [1, 1], group = 1, kernel_shape = [1, 1], pads = [0, 0, 0, 0], strides = [1, 1]](%input.464, %onnx::Conv_773, %onnx::Conv_774)\n",
            "  %onnx::Conv_606 = Add(%onnx::Add_772, %onnx::Conv_588)\n",
            "  %input.476 = Conv[dilations = [1, 1], group = 1, kernel_shape = [1, 1], pads = [0, 0, 0, 0], strides = [1, 1]](%onnx::Conv_606, %onnx::Conv_776, %onnx::Conv_777)\n",
            "  %onnx::Mul_609 = Sigmoid(%input.476)\n",
            "  %onnx::Conv_610 = Mul(%input.476, %onnx::Mul_609)\n",
            "  %input.484 = Conv[dilations = [1, 1], group = 1152, kernel_shape = [5, 5], pads = [2, 2, 2, 2], strides = [1, 1]](%onnx::Conv_610, %onnx::Conv_779, %onnx::Conv_780)\n",
            "  %onnx::Mul_613 = Sigmoid(%input.484)\n",
            "  %onnx::GlobalAveragePool_614 = Mul(%input.484, %onnx::Mul_613)\n",
            "  %input.488 = GlobalAveragePool(%onnx::GlobalAveragePool_614)\n",
            "  %input.492 = Conv[dilations = [1, 1], group = 1, kernel_shape = [1, 1], pads = [0, 0, 0, 0], strides = [1, 1]](%input.488, %features.6.3.block.2.fc1.weight, %features.6.3.block.2.fc1.bias)\n",
            "  %onnx::Mul_617 = Sigmoid(%input.492)\n",
            "  %onnx::Conv_618 = Mul(%input.492, %onnx::Mul_617)\n",
            "  %onnx::Sigmoid_619 = Conv[dilations = [1, 1], group = 1, kernel_shape = [1, 1], pads = [0, 0, 0, 0], strides = [1, 1]](%onnx::Conv_618, %features.6.3.block.2.fc2.weight, %features.6.3.block.2.fc2.bias)\n",
            "  %onnx::Mul_620 = Sigmoid(%onnx::Sigmoid_619)\n",
            "  %input.496 = Mul(%onnx::Mul_620, %onnx::GlobalAveragePool_614)\n",
            "  %onnx::Add_781 = Conv[dilations = [1, 1], group = 1, kernel_shape = [1, 1], pads = [0, 0, 0, 0], strides = [1, 1]](%input.496, %onnx::Conv_782, %onnx::Conv_783)\n",
            "  %onnx::Conv_624 = Add(%onnx::Add_781, %onnx::Conv_606)\n",
            "  %input.508 = Conv[dilations = [1, 1], group = 1, kernel_shape = [1, 1], pads = [0, 0, 0, 0], strides = [1, 1]](%onnx::Conv_624, %onnx::Conv_785, %onnx::Conv_786)\n",
            "  %onnx::Mul_627 = Sigmoid(%input.508)\n",
            "  %onnx::Conv_628 = Mul(%input.508, %onnx::Mul_627)\n",
            "  %input.516 = Conv[dilations = [1, 1], group = 1152, kernel_shape = [3, 3], pads = [1, 1, 1, 1], strides = [1, 1]](%onnx::Conv_628, %onnx::Conv_788, %onnx::Conv_789)\n",
            "  %onnx::Mul_631 = Sigmoid(%input.516)\n",
            "  %onnx::GlobalAveragePool_632 = Mul(%input.516, %onnx::Mul_631)\n",
            "  %input.520 = GlobalAveragePool(%onnx::GlobalAveragePool_632)\n",
            "  %input.524 = Conv[dilations = [1, 1], group = 1, kernel_shape = [1, 1], pads = [0, 0, 0, 0], strides = [1, 1]](%input.520, %features.7.0.block.2.fc1.weight, %features.7.0.block.2.fc1.bias)\n",
            "  %onnx::Mul_635 = Sigmoid(%input.524)\n",
            "  %onnx::Conv_636 = Mul(%input.524, %onnx::Mul_635)\n",
            "  %onnx::Sigmoid_637 = Conv[dilations = [1, 1], group = 1, kernel_shape = [1, 1], pads = [0, 0, 0, 0], strides = [1, 1]](%onnx::Conv_636, %features.7.0.block.2.fc2.weight, %features.7.0.block.2.fc2.bias)\n",
            "  %onnx::Mul_638 = Sigmoid(%onnx::Sigmoid_637)\n",
            "  %input.528 = Mul(%onnx::Mul_638, %onnx::GlobalAveragePool_632)\n",
            "  %input.536 = Conv[dilations = [1, 1], group = 1, kernel_shape = [1, 1], pads = [0, 0, 0, 0], strides = [1, 1]](%input.528, %onnx::Conv_791, %onnx::Conv_792)\n",
            "  %input.544 = Conv[dilations = [1, 1], group = 1, kernel_shape = [1, 1], pads = [0, 0, 0, 0], strides = [1, 1]](%input.536, %onnx::Conv_794, %onnx::Conv_795)\n",
            "  %onnx::Mul_644 = Sigmoid(%input.544)\n",
            "  %onnx::GlobalAveragePool_645 = Mul(%input.544, %onnx::Mul_644)\n",
            "  %onnx::Flatten_646 = GlobalAveragePool(%onnx::GlobalAveragePool_645)\n",
            "  %input.548 = Flatten[axis = 1](%onnx::Flatten_646)\n",
            "  %output = Gemm[alpha = 1, beta = 1, transB = 1](%input.548, %classifier.1.weight, %classifier.1.bias)\n",
            "  return %output\n",
            "}\n"
          ]
        }
      ]
    },
    {
      "cell_type": "code",
      "source": [
        "!pip install onnx_tf"
      ],
      "metadata": {
        "colab": {
          "base_uri": "https://localhost:8080/"
        },
        "id": "RQuvggwVzpIk",
        "outputId": "0d683f45-10a7-45ca-a3b0-2f3d2f739233"
      },
      "execution_count": null,
      "outputs": [
        {
          "output_type": "stream",
          "name": "stdout",
          "text": [
            "Looking in indexes: https://pypi.org/simple, https://us-python.pkg.dev/colab-wheels/public/simple/\n",
            "Requirement already satisfied: onnx_tf in /usr/local/lib/python3.7/dist-packages (1.10.0)\n",
            "Requirement already satisfied: tensorflow-addons in /usr/local/lib/python3.7/dist-packages (from onnx_tf) (0.18.0)\n",
            "Requirement already satisfied: onnx>=1.10.2 in /usr/local/lib/python3.7/dist-packages (from onnx_tf) (1.12.0)\n",
            "Requirement already satisfied: PyYAML in /usr/local/lib/python3.7/dist-packages (from onnx_tf) (6.0)\n",
            "Requirement already satisfied: protobuf<=3.20.1,>=3.12.2 in /usr/local/lib/python3.7/dist-packages (from onnx>=1.10.2->onnx_tf) (3.17.3)\n",
            "Requirement already satisfied: numpy>=1.16.6 in /usr/local/lib/python3.7/dist-packages (from onnx>=1.10.2->onnx_tf) (1.21.6)\n",
            "Requirement already satisfied: typing-extensions>=3.6.2.1 in /usr/local/lib/python3.7/dist-packages (from onnx>=1.10.2->onnx_tf) (4.1.1)\n",
            "Requirement already satisfied: six>=1.9 in /usr/local/lib/python3.7/dist-packages (from protobuf<=3.20.1,>=3.12.2->onnx>=1.10.2->onnx_tf) (1.15.0)\n",
            "Requirement already satisfied: typeguard>=2.7 in /usr/local/lib/python3.7/dist-packages (from tensorflow-addons->onnx_tf) (2.7.1)\n",
            "Requirement already satisfied: packaging in /usr/local/lib/python3.7/dist-packages (from tensorflow-addons->onnx_tf) (21.3)\n",
            "Requirement already satisfied: pyparsing!=3.0.5,>=2.0.2 in /usr/local/lib/python3.7/dist-packages (from packaging->tensorflow-addons->onnx_tf) (3.0.9)\n"
          ]
        }
      ]
    },
    {
      "cell_type": "code",
      "source": [
        "from onnx_tf.backend import prepare"
      ],
      "metadata": {
        "id": "00VWHTGgqAMC"
      },
      "execution_count": null,
      "outputs": []
    },
    {
      "cell_type": "code",
      "source": [
        "tf_rep = prepare(model_onxx)"
      ],
      "metadata": {
        "id": "YmL4Jt4Tzxf5"
      },
      "execution_count": null,
      "outputs": []
    },
    {
      "cell_type": "code",
      "source": [
        "tf_model_path = \"gdrive/MyDrive/makeathon/model_checkpoints/tomato/tf_winner\""
      ],
      "metadata": {
        "id": "XIfaNrK50MHG"
      },
      "execution_count": 8,
      "outputs": []
    },
    {
      "cell_type": "code",
      "source": [
        "tf_rep.export_graph(tf_model_path)"
      ],
      "metadata": {
        "colab": {
          "base_uri": "https://localhost:8080/"
        },
        "id": "uJdIGvwIz_eK",
        "outputId": "1ae71979-23f3-4720-9760-0cc26a595b57"
      },
      "execution_count": null,
      "outputs": [
        {
          "output_type": "stream",
          "name": "stderr",
          "text": [
            "WARNING:absl:Found untraced functions such as gen_tensor_dict while saving (showing 1 of 1). These functions will not be directly callable after loading.\n"
          ]
        }
      ]
    },
    {
      "cell_type": "code",
      "source": [
        "import tensorflow as tf\n",
        "\n",
        "model = tf.saved_model.load(tf_model_path)\n",
        "model.trainable = False\n",
        "\n",
        "input_tensor = tf.random.uniform([1, 3, 128, 128])\n",
        "out = model(**{'input': input_tensor})\n",
        "out"
      ],
      "metadata": {
        "colab": {
          "base_uri": "https://localhost:8080/"
        },
        "id": "pb-R-GxRz_hg",
        "outputId": "8074895f-3621-40c1-a4e7-e7ee4d9ca78f"
      },
      "execution_count": 12,
      "outputs": [
        {
          "output_type": "execute_result",
          "data": {
            "text/plain": [
              "{'output': <tf.Tensor: shape=(1, 10), dtype=float32, numpy=\n",
              " array([[-4.0593   , -4.7739625, -1.6998265,  3.119374 ,  8.208446 ,\n",
              "         -3.5995364, -6.636985 , -8.018264 ,  1.3257535,  4.8105445]],\n",
              "       dtype=float32)>}"
            ]
          },
          "metadata": {},
          "execution_count": 12
        }
      ]
    },
    {
      "cell_type": "code",
      "source": [
        "model"
      ],
      "metadata": {
        "colab": {
          "base_uri": "https://localhost:8080/"
        },
        "id": "gUv_TkzKnzr1",
        "outputId": "78478cdc-e6c4-472f-d023-ca4438e3034a"
      },
      "execution_count": 13,
      "outputs": [
        {
          "output_type": "execute_result",
          "data": {
            "text/plain": [
              "<tensorflow.python.saved_model.load.Loader._recreate_base_user_object.<locals>._UserObject at 0x7f78cc733410>"
            ]
          },
          "metadata": {},
          "execution_count": 13
        }
      ]
    },
    {
      "cell_type": "code",
      "source": [
        "tflite_model_path = \"gdrive/MyDrive/makeathon/model_checkpoints/tomato/tf_lite_winner.lite\""
      ],
      "metadata": {
        "id": "TTMZzfX70yoY"
      },
      "execution_count": 14,
      "outputs": []
    },
    {
      "cell_type": "code",
      "source": [
        "# Convert the model\n",
        "converter = tf.lite.TFLiteConverter.from_saved_model(tf_model_path)\n",
        "tflite_model = converter.convert()\n",
        "\n",
        "# Save the model\n",
        "with open(tflite_model_path, 'wb') as f:\n",
        "    f.write(tflite_model)"
      ],
      "metadata": {
        "id": "4vTTyXeN0k8_"
      },
      "execution_count": 15,
      "outputs": []
    },
    {
      "cell_type": "code",
      "source": [
        "import tensorflow_datasets as tfds\n",
        "import numpy as np"
      ],
      "metadata": {
        "id": "vtbGhj2m3UV8"
      },
      "execution_count": 16,
      "outputs": []
    },
    {
      "cell_type": "code",
      "source": [
        "# Load the TFLite model and allocate tensors\n",
        "interpreter = tf.lite.Interpreter(model_path=\"gdrive/MyDrive/makeathon/model_checkpoints/tomato/tf_lite_winner.lite\")\n",
        "interpreter.allocate_tensors()\n",
        "\n",
        "# Get input and output tensors\n",
        "input_details = interpreter.get_input_details()\n",
        "output_details = interpreter.get_output_details()\n",
        "\n",
        "# Test the model on random input data\n",
        "input_shape = input_details[0]['shape']\n"
      ],
      "metadata": {
        "id": "8C-bj1Wl5HgU"
      },
      "execution_count": null,
      "outputs": []
    },
    {
      "cell_type": "code",
      "source": [
        "total = 0\n",
        "for n,i in enumerate(test_loader):\n",
        "    input_data = tf.convert_to_tensor(np.array(i[0]))\n",
        "    interpreter.set_tensor(input_details[0]['index'], input_data)\n",
        "    interpreter.invoke()\n",
        "    output_data = interpreter.get_tensor(output_details[0]['index'])\n",
        "    if tf.argmax(output_data[0]) == i[1]:\n",
        "      total += 1\n",
        "total"
      ],
      "metadata": {
        "colab": {
          "base_uri": "https://localhost:8080/"
        },
        "id": "Y2HEG9tg3Cur",
        "outputId": "69c45865-375f-4df6-aac0-43580a70cddf"
      },
      "execution_count": null,
      "outputs": [
        {
          "output_type": "execute_result",
          "data": {
            "text/plain": [
              "976"
            ]
          },
          "metadata": {},
          "execution_count": 248
        }
      ]
    },
    {
      "cell_type": "code",
      "source": [],
      "metadata": {
        "id": "78XNucO83s9r"
      },
      "execution_count": null,
      "outputs": []
    }
  ]
}